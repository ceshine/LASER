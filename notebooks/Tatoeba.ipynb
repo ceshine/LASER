{
 "cells": [
  {
   "cell_type": "code",
   "execution_count": 1,
   "metadata": {},
   "outputs": [],
   "source": [
    "import sys\n",
    "import re\n",
    "import os\n",
    "from pathlib import Path\n",
    "from collections import namedtuple\n",
    "\n",
    "import numpy as np"
   ]
  },
  {
   "cell_type": "code",
   "execution_count": 2,
   "metadata": {},
   "outputs": [],
   "source": [
    "LASER_PATH = \"..\"\n",
    "sys.path.append(LASER_PATH + '/source')\n",
    "sys.path.append(LASER_PATH + '/source/lib')\n",
    "\n",
    "DATA_PATH = Path(\"../data/tatoeba/v1/\")\n",
    "CACHE_PATH = Path(\"cache/\")\n",
    "CACHE_PATH.mkdir(exist_ok=True)\n",
    "MODEL_PATH = Path(\"../models\")\n",
    "\n",
    "os.environ[\"LASER\"] = LASER_PATH "
   ]
  },
  {
   "cell_type": "code",
   "execution_count": 3,
   "metadata": {},
   "outputs": [],
   "source": [
    "SPACE_NORMALIZER = re.compile(\"\\s+\")\n",
    "Batch = namedtuple('Batch', 'srcs tokens lengths')"
   ]
  },
  {
   "cell_type": "code",
   "execution_count": 4,
   "metadata": {},
   "outputs": [],
   "source": [
    "from indexing import IndexLoad, IndexTextOpen, IndexTextQuery, IndexSearchKNN, IndexCreate, IndexSearchMultiple\n",
    "from embed import SentenceEncoder, EncodeLoad, EncodeFile\n",
    "from text_processing import Token, BPEfastApply"
   ]
  },
  {
   "cell_type": "code",
   "execution_count": 5,
   "metadata": {},
   "outputs": [],
   "source": [
    "def MarginRatio(em, ofp, params, args, stats):\n",
    "    if args.include_source == 'always':\n",
    "        ofp.write('{:d}\\t{:6.1f}\\t{}\\n'\n",
    "                  .format(stats.nbs, 0.0, sentences[n].replace('@@ ', '')))\n",
    "    D, I = params.idx.search(em, args.margin_k)\n",
    "    Mean = D.mean(axis=1)\n",
    "    for n in range(D.shape[0]):\n",
    "        if D[n, 0] / Mean[n] <= args.threshold:\n",
    "            if args.include_source == 'matches':\n",
    "                ofp.write('{:d}\\t{:6.1f}\\t{}\\n'\n",
    "                          .format(stats.nbs, 0.0, sentences[n].replace('@@ ', '')))\n",
    "            txt = IndexTextQuery(params.T, params.R, I[n, 0])\n",
    "            ofp.write('{:d}\\t{:7.5f}\\t{}\\n'.format(stats.nbs, D[n, 0], txt))\n",
    "            stats.nbp += 1\n",
    "\n",
    "        stats.nbs += 1"
   ]
  },
  {
   "cell_type": "code",
   "execution_count": 6,
   "metadata": {},
   "outputs": [],
   "source": [
    "def buffered_read(fp, buffer_size):\n",
    "    buffer = []\n",
    "    for src_str in fp:\n",
    "        buffer.append(src_str.strip())\n",
    "        if len(buffer) >= buffer_size:\n",
    "            yield buffer\n",
    "            buffer = []\n",
    "\n",
    "    if len(buffer) > 0:\n",
    "        yield buffer"
   ]
  },
  {
   "cell_type": "markdown",
   "metadata": {},
   "source": [
    "## Preprocessing"
   ]
  },
  {
   "cell_type": "code",
   "execution_count": 7,
   "metadata": {},
   "outputs": [
    {
     "name": "stdout",
     "output_type": "stream",
     "text": [
      " - Tokenizer: tatoeba.cmn-eng.cmn exists already\n"
     ]
    }
   ],
   "source": [
    "Token(\n",
    "    str(DATA_PATH / \"tatoeba.cmn-eng.cmn\"),\n",
    "    str(CACHE_PATH / \"tatoeba.cmn-eng.cmn\"),\n",
    "    lang=\"zh\",\n",
    "    romanize=False,\n",
    "    lower_case=True, gzip=False,\n",
    "    verbose=True, over_write=False)"
   ]
  },
  {
   "cell_type": "code",
   "execution_count": 8,
   "metadata": {},
   "outputs": [
    {
     "name": "stdout",
     "output_type": "stream",
     "text": [
      " - Tokenizer: tatoeba.cmn-eng.eng exists already\n"
     ]
    }
   ],
   "source": [
    "Token(\n",
    "    str(DATA_PATH / \"tatoeba.cmn-eng.eng\"),\n",
    "    str(CACHE_PATH / \"tatoeba.cmn-eng.eng\"),\n",
    "    lang=\"en\",\n",
    "    romanize=False,\n",
    "    lower_case=True, gzip=False,\n",
    "    verbose=True, over_write=False)"
   ]
  },
  {
   "cell_type": "code",
   "execution_count": 9,
   "metadata": {},
   "outputs": [
    {
     "name": "stdout",
     "output_type": "stream",
     "text": [
      " - fast BPE: tatoeba.cmn-eng.eng.bpe exists already\n"
     ]
    }
   ],
   "source": [
    "bpe_codes = str(MODEL_PATH / \"93langs.fcodes\")\n",
    "BPEfastApply(\n",
    "    str(CACHE_PATH / \"tatoeba.cmn-eng.eng\"),\n",
    "    str(CACHE_PATH / \"tatoeba.cmn-eng.eng.bpe\"),\n",
    "    bpe_codes,\n",
    "    verbose=True, over_write=False)"
   ]
  },
  {
   "cell_type": "code",
   "execution_count": 10,
   "metadata": {},
   "outputs": [
    {
     "name": "stdout",
     "output_type": "stream",
     "text": [
      " - fast BPE: tatoeba.cmn-eng.cmn.bpe exists already\n"
     ]
    }
   ],
   "source": [
    "BPEfastApply(\n",
    "    str(CACHE_PATH / \"tatoeba.cmn-eng.cmn\"),\n",
    "    str(CACHE_PATH / \"tatoeba.cmn-eng.cmn.bpe\"),\n",
    "    bpe_codes,\n",
    "    verbose=True, over_write=False)"
   ]
  },
  {
   "cell_type": "markdown",
   "metadata": {},
   "source": [
    "## Extract Setence Embeddings"
   ]
  },
  {
   "cell_type": "code",
   "execution_count": 11,
   "metadata": {},
   "outputs": [],
   "source": [
    "encoder = SentenceEncoder(\n",
    "    str(MODEL_PATH / \"bilstm.93langs.2018-12-26.pt\"),\n",
    "    max_sentences=None,\n",
    "    max_tokens=10000,\n",
    "    cpu=False)"
   ]
  },
  {
   "cell_type": "code",
   "execution_count": 12,
   "metadata": {},
   "outputs": [
    {
     "name": "stdout",
     "output_type": "stream",
     "text": [
      " - Encoder: tatoeba.cmn-eng.cmn.enc exists already\n"
     ]
    }
   ],
   "source": [
    "EncodeFile(\n",
    "    encoder,\n",
    "    str(CACHE_PATH / \"tatoeba.cmn-eng.cmn.bpe\"),\n",
    "    str(CACHE_PATH / \"tatoeba.cmn-eng.cmn.enc\"),\n",
    "    verbose=True, over_write=False)"
   ]
  },
  {
   "cell_type": "code",
   "execution_count": 13,
   "metadata": {},
   "outputs": [
    {
     "name": "stdout",
     "output_type": "stream",
     "text": [
      " - Encoder: tatoeba.cmn-eng.eng.enc exists already\n"
     ]
    }
   ],
   "source": [
    "EncodeFile(\n",
    "    encoder,\n",
    "    str(CACHE_PATH / \"tatoeba.cmn-eng.eng.bpe\"),\n",
    "    str(CACHE_PATH / \"tatoeba.cmn-eng.eng.enc\"),\n",
    "    verbose=True, over_write=False)"
   ]
  },
  {
   "cell_type": "markdown",
   "metadata": {},
   "source": [
    "## Create Index"
   ]
  },
  {
   "cell_type": "code",
   "execution_count": 14,
   "metadata": {},
   "outputs": [
    {
     "name": "stdout",
     "output_type": "stream",
     "text": [
      " - embedding: cache/tatoeba.cmn-eng.eng.enc 1000 examples of dim 1024\n",
      " - creating FAISS index\n",
      " - embedding: cache/tatoeba.cmn-eng.cmn.enc 1000 examples of dim 1024\n",
      " - creating FAISS index\n"
     ]
    }
   ],
   "source": [
    "data_en, index_en = IndexCreate(\n",
    "    str(CACHE_PATH / \"tatoeba.cmn-eng.eng.enc\"), 'FlatL2', verbose=True, save_index=False)\n",
    "data_zh, index_zh = IndexCreate(\n",
    "    str(CACHE_PATH / \"tatoeba.cmn-eng.cmn.enc\"), 'FlatL2', verbose=True, save_index=False)"
   ]
  },
  {
   "cell_type": "markdown",
   "metadata": {},
   "source": [
    "## Evaluation"
   ]
  },
  {
   "cell_type": "code",
   "execution_count": 15,
   "metadata": {},
   "outputs": [
    {
     "name": "stdout",
     "output_type": "stream",
     "text": [
      "Calculating similarity error:\n",
      " - similarity error en=>zh  4.10%\n",
      " - similarity error zh=>en  5.00%\n"
     ]
    }
   ],
   "source": [
    "err = IndexSearchMultiple(\n",
    "    [data_en, data_zh], [index_en, index_zh], langs=[\"en\", \"zh\"], verbose=True)"
   ]
  },
  {
   "cell_type": "markdown",
   "metadata": {},
   "source": [
    "### Error Analysis"
   ]
  },
  {
   "cell_type": "markdown",
   "metadata": {},
   "source": [
    "Read in the tokenized documents:"
   ]
  },
  {
   "cell_type": "code",
   "execution_count": 16,
   "metadata": {},
   "outputs": [
    {
     "name": "stdout",
     "output_type": "stream",
     "text": [
      "1000 1000\n"
     ]
    }
   ],
   "source": [
    "documents = {}\n",
    "for lang in (\"eng\", \"cmn\"):\n",
    "    with open(CACHE_PATH / f\"tatoeba.cmn-eng.{lang}.bpe\") as fin:\n",
    "        documents[lang] = list(fin.readlines())\n",
    "print(len(documents[\"eng\"]), len(documents[\"cmn\"]))"
   ]
  },
  {
   "cell_type": "markdown",
   "metadata": {},
   "source": [
    "#### English to Chinese Mandarin"
   ]
  },
  {
   "cell_type": "code",
   "execution_count": 17,
   "metadata": {},
   "outputs": [
    {
     "data": {
      "text/plain": [
       "(1000, 1)"
      ]
     },
     "execution_count": 17,
     "metadata": {},
     "output_type": "execute_result"
    }
   ],
   "source": [
    "_, matched_indices = index_zh.search(data_en, 1)\n",
    "matched_indices.shape"
   ]
  },
  {
   "cell_type": "code",
   "execution_count": 18,
   "metadata": {},
   "outputs": [
    {
     "data": {
      "text/plain": [
       "959"
      ]
     },
     "execution_count": 18,
     "metadata": {},
     "output_type": "execute_result"
    }
   ],
   "source": [
    "sum([x == i for i, x in enumerate(matched_indices[:, 0])])"
   ]
  },
  {
   "cell_type": "code",
   "execution_count": 19,
   "metadata": {},
   "outputs": [
    {
     "name": "stdout",
     "output_type": "stream",
     "text": [
      "source:  i 'm at a loss for words .\n",
      "predict: 我@@ 興@@ 奮 得 說 不 出@@ 話 來   。\n",
      "correct: 我 不 知道 應@@ 該 說 什麼 才 好   。\n",
      "\n",
      "source:  i just don 't know what to say .\n",
      "predict: 我 不 知道 應@@ 該 說 什麼 才 好   。\n",
      "correct: 我 只是 不 知道 應@@ 該 說 什麼 而@@ 已   ..@@ ....\n",
      "\n",
      "source:  you should sleep .\n",
      "predict: 你 应该 睡@@ 觉   。\n",
      "correct: 你 應@@ 該 去 睡@@ 覺 了 吧   。\n",
      "\n",
      "source:  so fu@@ ck@@ in ' what .\n",
      "predict: 這@@ 是 什麼 啊   ？\n",
      "correct: 那 又 怎@@ 樣   ?\n",
      "\n",
      "source:  i don 't like him any more than he lik@@ es me .\n",
      "predict: 我 也 不 喜欢 他   。\n",
      "correct: 我們 之@@ 間 已@@ 經 沒@@ 有 感@@ 情 了   。\n",
      "\n",
      "source:  a gu@@ est should not try to make himself superior to the ho@@ st .\n",
      "predict: 没有 欲@@ 望 就 等@@ 于 拥有   。\n",
      "correct: 强@@ 宾 不@@ 压@@ 主   。\n",
      "\n",
      "source:  something can 't get out of hand .\n",
      "predict: 这个 问题 不能 解决   。\n",
      "correct: 爱@@ 不@@ 释@@ 手\n",
      "\n",
      "source:  she was be@@ side her@@ self with jo@@ y .\n",
      "predict: 她 陶@@ 醉 在 幸@@ 福 裡   。\n",
      "correct: 她 欣@@ 喜@@ 若@@ 狂   。\n",
      "\n",
      "source:  i am the fast@@ est run@@ ner .\n",
      "predict: 我 是 最@@ 快 的 跑 者   。\n",
      "correct: 我 是 跑 得 最@@ 快 的 人   。\n",
      "\n",
      "source:  i am sorry to trouble you .\n",
      "predict: 我 很 抱@@ 歉 打@@ 擾 你 了   。\n",
      "correct: 我 很 抱@@ 歉 給@@ 你@@ 添 麻@@ 煩 了   。\n",
      "\n",
      "source:  i am content with my job .\n",
      "predict: 我 很 滿@@ 意 我 的 工作   。\n",
      "correct: 我 對 我 的 工作 感到 滿@@ 意   。\n",
      "\n",
      "source:  he is an easy mark at car@@ ds .\n",
      "predict: 他 是 一個 撲@@ 克@@ 牌 高@@ 手   。\n",
      "correct: 他 打@@ 牌 很 容易 被 騙   。\n",
      "\n",
      "source:  you can see that the arch@@ it@@ ect paid scru@@ pul@@ ous attention to detail .\n",
      "predict: 他 的 演@@ 講 吸@@ 引 了 我們 的 注意   。\n",
      "correct: 這@@ 位 建@@ 築@@ 師 顯@@ 然 是 一位 無@@ 微 不 至 的 建@@ 築@@ 師   。\n",
      "\n",
      "source:  i am constan@@ tly for@@ getting nam@@ es .\n",
      "predict: 我 经常 忘@@ 记 别@@ 人 的 名字   。\n",
      "correct: 我 經@@ 常 忘 記@@ 別 人 的 名字   。\n",
      "\n",
      "source:  he 's c@@ razy about you .\n",
      "predict: 他 向 我 大 發@@ 脾@@ 氣   。\n",
      "correct: 他 被 你 迷@@ 住 了   。\n",
      "\n",
      "source:  i am from sh@@ iko@@ ku .\n",
      "predict: 我@@ 會@@ 彈 蕭@@ 邦   。\n",
      "correct: 我@@ 來 自@@ 四@@ 國   。\n",
      "\n",
      "source:  ap@@ petite comes with e@@ ating .\n",
      "predict: 没有 欲@@ 望 就 等@@ 于 拥有   。\n",
      "correct: 贪@@ 得@@ 无@@ 厌   。\n",
      "\n",
      "source:  i do not like him either .\n",
      "predict: 我 也 不 喜欢 他   。\n",
      "correct: 我 也 不 喜欢 她   。\n",
      "\n",
      "source:  you 'll be able to see the differen@@ ces very easi@@ ly .\n",
      "predict: 您 很 容易 就 能 看@@ 出 区@@ 别   。\n",
      "correct: 你们 很 容易 就 能 看@@ 出 区@@ 别   。\n",
      "\n",
      "source:  ru@@ b sal@@ t in the wo@@ und .\n",
      "predict: 把 肉 切@@ 成 薄@@ 片   。\n",
      "correct: 按@@ 住 痛@@ 处   。\n",
      "\n",
      "source:  don 't wor@@ ry about it !\n",
      "predict: 不要 擔@@ 心   。\n",
      "correct: 你 不要 着@@ 急   。\n",
      "\n",
      "source:  i can do it without her help .\n",
      "predict: 沒@@ 有 她 的 幫@@ 助 我 做 不到   。\n",
      "correct: 沒@@ 有 她 的 幫@@ 忙 我 也 能 做   。\n",
      "\n",
      "source:  i 'm really glad you 're here .\n",
      "predict: 我 很 高@@ 興 我 在 那@@ 裡   。\n",
      "correct: 你 能 来 我 真 高兴   。\n",
      "\n",
      "source:  we must have something to live for .\n",
      "predict: 没有 我们 能 还 做 的 事   。\n",
      "correct: 人@@ 生@@ 在@@ 世   ，   總@@ 要 有 目@@ 標 和 追@@ 求 的   。\n",
      "\n",
      "source:  it 's in times like these that the char@@ ac@@ ter of a person be@@ comes appar@@ ent .\n",
      "predict: 我 觉得 像 这样 句@@ 子 听 起来 更 自@@ 然   。\n",
      "correct: 路@@ 遙 知@@ 馬@@ 力   ，   日@@ 久@@ 見 人@@ 心   。\n",
      "\n",
      "source:  are you looking for work ?\n",
      "predict: 你 在 找 工作 吗   ？\n",
      "correct: 你 是 在 找 工作 吗   ？\n",
      "\n",
      "source:  you were du@@ ped by him .\n",
      "predict: 他 被 你 迷@@ 住 了   。\n",
      "correct: 他 讓 你 上@@ 當   。\n",
      "\n",
      "source:  there wer@@ en 't any cat@@ s .\n",
      "predict: 那@@ 儿 没有 猫   。\n",
      "correct: 以前 那里 没有 过@@ 猫   。\n",
      "\n",
      "source:  you 'd better see a doctor .\n",
      "predict: 我 父@@ 亲 是 个 大@@ 夫   。\n",
      "correct: 你 还是 去 看@@ 病 吧   。\n",
      "\n",
      "source:  let 's watch tv .\n",
      "predict: 我們 正在 看@@ 電@@ 視   。\n",
      "correct: 看@@ 电@@ 视 吧   。\n",
      "\n",
      "source:  i held my bre@@ ath in ex@@ cit@@ ement .\n",
      "predict: 我 感@@ 覺 到 自己 的 心 在 劇@@ 烈 地 跳@@ 動   。\n",
      "correct: 我@@ 興@@ 奮 得 說 不 出@@ 話 來   。\n",
      "\n",
      "source:  the fr@@ ying pan is ru@@ sty .\n",
      "predict: 蛋@@ 黃 是 黃 色 的   。\n",
      "correct: 鍋@@ 銹@@ 掉 了   。\n",
      "\n",
      "source:  open up your mind .\n",
      "predict: 打@@ 開 你 的 心@@ 胸   。\n",
      "correct: 敞@@ 開 你 的 心@@ 扉   。\n",
      "\n",
      "source:  cat@@ ch as cat@@ ch can .\n",
      "predict: 按@@ 住 痛@@ 处   。\n",
      "correct: 做 多少 算 多少   。\n",
      "\n",
      "source:  you should go to bed .\n",
      "predict: 你 應@@ 該 去 睡@@ 覺 了 吧   。\n",
      "correct: 你 应该 睡@@ 觉   。\n",
      "\n",
      "source:  he went to it@@ aly in order to study music .\n",
      "predict: 他 去 義 大@@ 利 的 目的 是 學@@ 習 音@@ 樂   。\n",
      "correct: 為 了 研@@ 讀 音@@ 樂 他 去 了 義 大@@ 利   。\n",
      "\n",
      "source:  i always have trouble re@@ member@@ ing nam@@ es .\n",
      "predict: 我 總 是 忘 記@@ 別 人 的 名字   。\n",
      "correct: 我 经常 忘@@ 记 别@@ 人 的 名字   。\n",
      "\n",
      "source:  she writ@@ es beau@@ ti@@ fully .\n",
      "predict: 她 的 写@@ 作 很 好   。\n",
      "correct: 她 的 笔@@ 迹 漂@@ 亮 极@@ 了   。\n",
      "\n",
      "source:  i am bles@@ sed with good health .\n",
      "predict: 我 很 幸@@ 運@@ 有 健康 的 身@@ 體   。\n",
      "correct: 上@@ 帝 賜@@ 予 我 健康 的 身@@ 體   。\n",
      "\n",
      "source:  so be it .\n",
      "predict: 好   ，   定 了   。\n",
      "correct: 行   。\n",
      "\n",
      "source:  i arri@@ ved in london .\n",
      "predict: 我 在 伦@@ 敦   。\n",
      "correct: 我@@ 到 達@@ 倫@@ 敦 了   。\n",
      "\n"
     ]
    }
   ],
   "source": [
    "for idx in np.where([x != i for i, x in enumerate(matched_indices[:, 0])])[0]:\n",
    "    print(\n",
    "        \"source:  \", documents[\"eng\"][idx].strip() + \"\\n\",\n",
    "        \"predict: \", documents[\"cmn\"][matched_indices[idx, 0]].strip() + \"\\n\",\n",
    "        \"correct: \", documents[\"cmn\"][idx].strip() + \"\\n\", sep=\"\"\n",
    "    )"
   ]
  },
  {
   "cell_type": "code",
   "execution_count": 20,
   "metadata": {},
   "outputs": [
    {
     "data": {
      "text/plain": [
       "(1000, 1)"
      ]
     },
     "execution_count": 20,
     "metadata": {},
     "output_type": "execute_result"
    }
   ],
   "source": [
    "_, matched_indices = index_en.search(data_zh, 1)\n",
    "matched_indices.shape"
   ]
  },
  {
   "cell_type": "markdown",
   "metadata": {},
   "source": [
    "#### Chinese to English Mandarin"
   ]
  },
  {
   "cell_type": "code",
   "execution_count": 21,
   "metadata": {},
   "outputs": [
    {
     "name": "stdout",
     "output_type": "stream",
     "text": [
      "source:  我 不 知道 應@@ 該 說 什麼 才 好   。\n",
      "predict: i just don 't know what to say .\n",
      "correct: i 'm at a loss for words .\n",
      "\n",
      "source:  你 應@@ 該 去 睡@@ 覺 了 吧   。\n",
      "predict: you should go to bed .\n",
      "correct: you should sleep .\n",
      "\n",
      "source:  那 又 怎@@ 樣   ?\n",
      "predict: what is this ?\n",
      "correct: so fu@@ ck@@ in ' what .\n",
      "\n",
      "source:  我們 之@@ 間 已@@ 經 沒@@ 有 感@@ 情 了   。\n",
      "predict: it would be better for both of us not to see each other any@@ more .\n",
      "correct: i don 't like him any more than he lik@@ es me .\n",
      "\n",
      "source:  我 不 同意 你 這@@ 個 觀@@ 點   。\n",
      "predict: i agree with your opinion .\n",
      "correct: i can 't go along with you on that point .\n",
      "\n",
      "source:  强@@ 宾 不@@ 压@@ 主   。\n",
      "predict: a lion is strong .\n",
      "correct: a gu@@ est should not try to make himself superior to the ho@@ st .\n",
      "\n",
      "source:  我 不 了解 他   。\n",
      "predict: i don 't understand you .\n",
      "correct: i can 't figure him out .\n",
      "\n",
      "source:  爱@@ 不@@ 释@@ 手\n",
      "predict: i miss you .\n",
      "correct: something can 't get out of hand .\n",
      "\n",
      "source:  她 欣@@ 喜@@ 若@@ 狂   。\n",
      "predict: she is si@@ ck .\n",
      "correct: she was be@@ side her@@ self with jo@@ y .\n",
      "\n",
      "source:  我 是 最@@ 快 的 跑 者   。\n",
      "predict: i am the fast@@ est run@@ ner .\n",
      "correct: i 'm the fast@@ est run@@ ner .\n",
      "\n",
      "source:  我 很 抱@@ 歉 打@@ 擾 你 了   。\n",
      "predict: i am sorry to trouble you .\n",
      "correct: i 'm sorry to trouble you .\n",
      "\n",
      "source:  他 打@@ 牌 很 容易 被 騙   。\n",
      "predict: he is very good at po@@ ker .\n",
      "correct: he is an easy mark at car@@ ds .\n",
      "\n",
      "source:  我 全@@ 身 酸@@ 痛   。\n",
      "predict: i held my bre@@ ath in ex@@ cit@@ ement .\n",
      "correct: i a@@ che all over .\n",
      "\n",
      "source:  這@@ 位 建@@ 築@@ 師 顯@@ 然 是 一位 無@@ 微 不 至 的 建@@ 築@@ 師   。\n",
      "predict: the man turned out to be a private dete@@ ctive .\n",
      "correct: you can see that the arch@@ it@@ ect paid scru@@ pul@@ ous attention to detail .\n",
      "\n",
      "source:  我 經@@ 常 忘 記@@ 別 人 的 名字   。\n",
      "predict: i 'm always for@@ getting people 's nam@@ es .\n",
      "correct: i am constan@@ tly for@@ getting nam@@ es .\n",
      "\n",
      "source:  他 每@@ 天 刮 鬍 子   。\n",
      "predict: i was@@ h my face every morning .\n",
      "correct: he sha@@ ves daily .\n",
      "\n",
      "source:  我 生@@ 性 樂@@ 觀   。\n",
      "predict: i am an opti@@ mist by nature .\n",
      "correct: i 'm an opti@@ mist by nature .\n",
      "\n",
      "source:  他 被 你 迷@@ 住 了   。\n",
      "predict: you were du@@ ped by him .\n",
      "correct: he 's c@@ razy about you .\n",
      "\n",
      "source:  我@@ 來 自@@ 四@@ 國   。\n",
      "predict: i arri@@ ved in london .\n",
      "correct: i am from sh@@ iko@@ ku .\n",
      "\n",
      "source:  我 很 滿@@ 意 我 的 工作   。\n",
      "predict: i am content with my job .\n",
      "correct: i 'm satis@@ fied with my work .\n",
      "\n",
      "source:  贪@@ 得@@ 无@@ 厌   。\n",
      "predict: he is no fo@@ ol .\n",
      "correct: ap@@ petite comes with e@@ ating .\n",
      "\n",
      "source:  我@@ 連 你 叫 什麼 都 不 知道   。\n",
      "predict: i just don 't know what to say .\n",
      "correct: i don 't even know what you are called , mate .\n",
      "\n",
      "source:  我 也 不 喜欢 他   。\n",
      "predict: i do not like him either .\n",
      "correct: i don 't like it , either .\n",
      "\n",
      "source:  这 是 在 吵 什么 呀   ？\n",
      "predict: what is this ?\n",
      "correct: what 's the com@@ motion ?\n",
      "\n",
      "source:  你们 很 容易 就 能 看@@ 出 区@@ 别   。\n",
      "predict: you 'll be able to see the differen@@ ce very easi@@ ly .\n",
      "correct: you 'll be able to see the differen@@ ces very easi@@ ly .\n",
      "\n",
      "source:  我們 還@@ 是 不要 再@@ 見@@ 面 了   。\n",
      "predict: i can 't meet you .\n",
      "correct: it would be better for both of us not to see each other any@@ more .\n",
      "\n",
      "source:  他 是 个 无@@ 可@@ 救@@ 药 的 家@@ 伙   。\n",
      "predict: he is an aggre@@ ssi@@ ve person .\n",
      "correct: he 's a ho@@ pel@@ ess case .\n",
      "\n",
      "source:  按@@ 住 痛@@ 处   。\n",
      "predict: i a@@ che all over .\n",
      "correct: ru@@ b sal@@ t in the wo@@ und .\n",
      "\n",
      "source:  你 不要 着@@ 急   。\n",
      "predict: don 't be wor@@ ried .\n",
      "correct: don 't wor@@ ry about it !\n",
      "\n",
      "source:  反@@ 正 已@@ 經 太@@ 晚 了   。\n",
      "predict: it 's too late now .\n",
      "correct: it 's too late , any@@ how .\n",
      "\n",
      "source:  人@@ 生@@ 在@@ 世   ，   總@@ 要 有 目@@ 標 和 追@@ 求 的   。\n",
      "predict: who sear@@ ches , fin@@ ds .\n",
      "correct: we must have something to live for .\n",
      "\n",
      "source:  路@@ 遙 知@@ 馬@@ 力   ，   日@@ 久@@ 見 人@@ 心   。\n",
      "predict: refuge@@ es pou@@ red in from all over the country .\n",
      "correct: it 's in times like these that the char@@ ac@@ ter of a person be@@ comes appar@@ ent .\n",
      "\n",
      "source:  你 是 在 找 工作 吗   ？\n",
      "predict: are you looking for a job ?\n",
      "correct: are you looking for work ?\n",
      "\n",
      "source:  他 讓 你 上@@ 當   。\n",
      "predict: he sw@@ ind@@ led her .\n",
      "correct: you were du@@ ped by him .\n",
      "\n",
      "source:  以前 那里 没有 过@@ 猫   。\n",
      "predict: there was no cat .\n",
      "correct: there wer@@ en 't any cat@@ s .\n",
      "\n",
      "source:  你 该@@ 学 他   。\n",
      "predict: he sw@@ ind@@ led her .\n",
      "correct: you should learn from his example .\n",
      "\n",
      "source:  好   ，   定 了   。\n",
      "predict: so be it .\n",
      "correct: all right . it 's a deal .\n",
      "\n",
      "source:  你 还是 去 看@@ 病 吧   。\n",
      "predict: you should go to bed .\n",
      "correct: you 'd better see a doctor .\n",
      "\n",
      "source:  鍋@@ 銹@@ 掉 了   。\n",
      "predict: the bo@@ x is broken .\n",
      "correct: the fr@@ ying pan is ru@@ sty .\n",
      "\n",
      "source:  我@@ 應 該 不能 再@@ 見 到 他 了   。\n",
      "predict: i can 't meet you .\n",
      "correct: there is little chance of my meeting him again .\n",
      "\n",
      "source:  敞@@ 開 你 的 心@@ 扉   。\n",
      "predict: open your heart .\n",
      "correct: open up your mind .\n",
      "\n",
      "source:  做 多少 算 多少   。\n",
      "predict: how much is this tie ?\n",
      "correct: cat@@ ch as cat@@ ch can .\n",
      "\n",
      "source:  他們 正在 聊@@ 天   。\n",
      "predict: there 's always someone talking .\n",
      "correct: they are having a ch@@ at .\n",
      "\n",
      "source:  他 向 我 大 發@@ 脾@@ 氣   。\n",
      "predict: he 's c@@ razy about you .\n",
      "correct: he enti@@ rely lost his tem@@ per with me .\n",
      "\n",
      "source:  你 应该 睡@@ 觉   。\n",
      "predict: you should sleep .\n",
      "correct: you should go to bed .\n",
      "\n",
      "source:  他 法@@ 语 说 得 很 好   。\n",
      "predict: i am good at speaking english .\n",
      "correct: he is flu@@ ent in french .\n",
      "\n",
      "source:  他 潛@@ 心 研究 音@@ 樂   。\n",
      "predict: he is playing music .\n",
      "correct: he appli@@ ed himself to the study of music .\n",
      "\n",
      "source:  我 经常 忘@@ 记 别@@ 人 的 名字   。\n",
      "predict: i 'm always for@@ getting people 's nam@@ es .\n",
      "correct: i always have trouble re@@ member@@ ing nam@@ es .\n",
      "\n",
      "source:  她 的 笔@@ 迹 漂@@ 亮 极@@ 了   。\n",
      "predict: her writing is very good .\n",
      "correct: she writ@@ es beau@@ ti@@ fully .\n",
      "\n",
      "source:  我@@ 到 達@@ 倫@@ 敦 了   。\n",
      "predict: i am in london .\n",
      "correct: i arri@@ ved in london .\n",
      "\n"
     ]
    }
   ],
   "source": [
    "for idx in np.where([x != i for i, x in enumerate(matched_indices[:, 0])])[0]:\n",
    "    print(\n",
    "        \"source:  \", documents[\"cmn\"][idx].strip() + \"\\n\",\n",
    "        \"predict: \", documents[\"eng\"][matched_indices[idx, 0]].strip() + \"\\n\",\n",
    "        \"correct: \", documents[\"eng\"][idx].strip() + \"\\n\", sep=\"\"\n",
    "    )"
   ]
  },
  {
   "cell_type": "code",
   "execution_count": null,
   "metadata": {},
   "outputs": [],
   "source": []
  }
 ],
 "metadata": {
  "kernelspec": {
   "display_name": "Python 3",
   "language": "python",
   "name": "python3"
  },
  "language_info": {
   "codemirror_mode": {
    "name": "ipython",
    "version": 3
   },
   "file_extension": ".py",
   "mimetype": "text/x-python",
   "name": "python",
   "nbconvert_exporter": "python",
   "pygments_lexer": "ipython3",
   "version": "3.7.2"
  }
 },
 "nbformat": 4,
 "nbformat_minor": 2
}
