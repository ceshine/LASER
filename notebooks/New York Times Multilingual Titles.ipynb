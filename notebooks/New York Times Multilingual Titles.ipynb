{
 "cells": [
  {
   "cell_type": "code",
   "execution_count": 1,
   "metadata": {},
   "outputs": [],
   "source": [
    "import os\n",
    "import sys\n",
    "import requests\n",
    "from pathlib import Path\n",
    "from itertools import chain\n",
    "\n",
    "import numpy as np\n",
    "from bs4 import BeautifulSoup"
   ]
  },
  {
   "cell_type": "code",
   "execution_count": 2,
   "metadata": {},
   "outputs": [],
   "source": [
    "LASER_PATH = \"..\"\n",
    "sys.path.append(LASER_PATH + '/source')\n",
    "sys.path.append(LASER_PATH + '/source/lib')\n",
    "\n",
    "CACHE_PATH = Path(\"cache/\")\n",
    "CACHE_PATH.mkdir(exist_ok=True)\n",
    "MODEL_PATH = Path(\"../models\")\n",
    "\n",
    "os.environ[\"LASER\"] = LASER_PATH "
   ]
  },
  {
   "cell_type": "code",
   "execution_count": 3,
   "metadata": {},
   "outputs": [],
   "source": [
    "# Local network settings\n",
    "os.environ[\"http_proxy\"] = \"http://127.0.0.1:11233\"\n",
    "os.environ[\"https_proxy\"] = \"http://127.0.0.1:11233\""
   ]
  },
  {
   "cell_type": "code",
   "execution_count": 4,
   "metadata": {},
   "outputs": [],
   "source": [
    "from indexing import IndexCreate\n",
    "from embed import SentenceEncoder, EncodeLoad, EncodeFile\n",
    "from text_processing import Token, BPEfastApply"
   ]
  },
  {
   "cell_type": "code",
   "execution_count": 5,
   "metadata": {},
   "outputs": [
    {
     "name": "stdout",
     "output_type": "stream",
     "text": [
      "rm: cannot remove 'cache/title*': No such file or directory\r\n"
     ]
    }
   ],
   "source": [
    "!rm cache/title*"
   ]
  },
  {
   "cell_type": "markdown",
   "metadata": {},
   "source": [
    "## Collect Data"
   ]
  },
  {
   "cell_type": "markdown",
   "metadata": {},
   "source": [
    "[Feedly Stream API documentation](https://developer.feedly.com/v3/streams/)"
   ]
  },
  {
   "cell_type": "code",
   "execution_count": 6,
   "metadata": {},
   "outputs": [],
   "source": [
    "english_feeds = [\n",
    "    \"https://www.nytimes.com/services/xml/rss/nyt/HomePage.xml\",\n",
    "    \"https://www.nytimes.com/services/xml/rss/nyt/AsiaPacific.xml\",\n",
    "    \"https://www.nytimes.com/services/xml/rss/nyt/Europe.xml\",\n",
    "    \"https://www.nytimes.com/services/xml/rss/nyt/Politics.xml\",\n",
    "    \"http://feeds.nytimes.com/nyt/rss/Business\",\n",
    "    \"http://feeds.nytimes.com/nyt/rss/Technology\",\n",
    "    \"https://www.nytimes.com/svc/collections/v1/publish/https://www.nytimes.com/section/opinion/rss.xml\"\n",
    "]"
   ]
  },
  {
   "cell_type": "code",
   "execution_count": 7,
   "metadata": {},
   "outputs": [],
   "source": [
    "def fetch_latest(feed_url, count=500):\n",
    "    res = requests.get(\n",
    "        'https://cloud.feedly.com//v3/streams/contents'\n",
    "        f'?streamId=feed/{feed_url}&count={count}')\n",
    "    return res.json()"
   ]
  },
  {
   "cell_type": "code",
   "execution_count": 8,
   "metadata": {},
   "outputs": [
    {
     "data": {
      "text/plain": [
       "['Europe Flags American Territories in ‘Dirty Money’ List, Deepening Rift With U.S.',\n",
       " 'Airbus to Halt Production of A380 Jumbo Jet as Orders Dry Up',\n",
       " 'Indonesia’s Next Election Is in April. The Islamists Have Already Won.',\n",
       " 'A New Model to Stop the Next School Shooting',\n",
       " 'Editorial Observer: Everyone Needs Legal Help. That Doesn’t Mean Everyone Needs a Lawyer.']"
      ]
     },
     "execution_count": 8,
     "metadata": {},
     "output_type": "execute_result"
    }
   ],
   "source": [
    "english_items = list(chain.from_iterable([\n",
    "    fetch_latest(x)[\"items\"] for x in english_feeds]))\n",
    "english_titles = [x[\"title\"] for x in english_items if \"Briefing\" not in x[\"title\"]]\n",
    "english_titles[:5]"
   ]
  },
  {
   "cell_type": "code",
   "execution_count": 9,
   "metadata": {},
   "outputs": [],
   "source": [
    "chinese_items = fetch_latest('https://cn.nytimes.com/rss/', count=30)[\"items\"]"
   ]
  },
  {
   "cell_type": "code",
   "execution_count": 10,
   "metadata": {},
   "outputs": [
    {
     "name": "stdout",
     "output_type": "stream",
     "text": [
      "English Title Not Found for 伊斯兰革命40年后的伊朗（漫画）\n",
      "skipped https://cn.nytimes.com/morning-brief/20190214/trump-china-zhang-yimou-berlin-film/\n",
      "English Title Not Found for “涂黑脸”是种族歧视吗？\n",
      "skipped https://cn.nytimes.com/morning-brief/20190213/trump-china-trade-lin-zhao/\n",
      "English Title Not Found for 狱中血书：中共为何害怕死去的林昭\n",
      "English Title Not Found for 回应“裸照门”，贝佐斯自创新词？\n",
      "skipped https://cn.nytimes.com/morning-brief/20190212/china-internet-censorship-trump-border-wall/\n",
      "English Title Not Found for 澳大利亚取消中国富商黄向墨永久居住权\n",
      "English Title Not Found for 与机器人谈一场恋爱？\n",
      "skipped https://cn.nytimes.com/morning-brief/20190211/china-workers-protests-turkey-uighurs/\n",
      "skipped https://cn.nytimes.com/?utm_source=RSS\n"
     ]
    },
    {
     "data": {
      "text/plain": [
       "19"
      ]
     },
     "execution_count": 10,
     "metadata": {},
     "output_type": "execute_result"
    }
   ],
   "source": [
    "# collect news title in English\n",
    "chinese_titles, translated_titles = [], []\n",
    "for item in chinese_items:\n",
    "    if \"title\" not in item or \"简报\" in item[\"title\"]:\n",
    "        print(f\"skipped {item['originId']}\")\n",
    "        continue\n",
    "    res = requests.get(item[\"originId\"] + \"dual/\")\n",
    "    soup = BeautifulSoup(res.text)\n",
    "    if soup.find(\"h1\", attrs={\"class\": \"en-title\"}):\n",
    "        translated_titles.append(soup.find(\"h1\", attrs={\"class\": \"en-title\"}).text)\n",
    "        chinese_titles.append(item[\"title\"])\n",
    "    else:\n",
    "        print(f\"English Title Not Found for {item['title']}\")\n",
    "# for a, b in zip(chinese_titles, translated_titles):\n",
    "#     print(a, b, sep=\"\\n\")\n",
    "#     print(\"-\" * 20)\n",
    "len(chinese_titles)"
   ]
  },
  {
   "cell_type": "code",
   "execution_count": 11,
   "metadata": {},
   "outputs": [],
   "source": [
    "english_titles = list(set(english_titles + translated_titles))"
   ]
  },
  {
   "cell_type": "code",
   "execution_count": 12,
   "metadata": {},
   "outputs": [],
   "source": [
    "with open(CACHE_PATH / \"title.zh\", \"w\") as fout:\n",
    "    fout.write(\"\\n\".join(chinese_titles))\n",
    "with open(CACHE_PATH / \"title.en\", \"w\") as fout:\n",
    "    fout.write(\"\\n\".join(english_titles))    "
   ]
  },
  {
   "cell_type": "markdown",
   "metadata": {},
   "source": [
    "## Tokenization"
   ]
  },
  {
   "cell_type": "code",
   "execution_count": 13,
   "metadata": {},
   "outputs": [],
   "source": [
    "encoder = SentenceEncoder(\n",
    "    str(MODEL_PATH / \"bilstm.93langs.2018-12-26.pt\"),\n",
    "    max_sentences=None,\n",
    "    max_tokens=10000,\n",
    "    cpu=False)"
   ]
  },
  {
   "cell_type": "code",
   "execution_count": 14,
   "metadata": {},
   "outputs": [],
   "source": [
    "bpe_codes = str(MODEL_PATH / \"93langs.fcodes\")"
   ]
  },
  {
   "cell_type": "code",
   "execution_count": 15,
   "metadata": {},
   "outputs": [
    {
     "name": "stdout",
     "output_type": "stream",
     "text": [
      " - Tokenizer: title.zh in language zh  \n",
      " - fast BPE: processing title.zh.tok\n",
      " - Encoder: title.zh.bpe to title.zh.enc\n",
      " - Encoder: 19 sentences in 0s\n",
      " - Tokenizer: title.en in language en  \n",
      " - fast BPE: processing title.en.tok\n",
      " - Encoder: title.en.bpe to title.en.enc\n",
      " - Encoder: 2992 sentences in 0s\n"
     ]
    }
   ],
   "source": [
    "for lang in (\"zh\", \"en\"):\n",
    "    Token(\n",
    "        str(CACHE_PATH / f\"title.{lang}\"),\n",
    "        str(CACHE_PATH / f\"title.{lang}.tok\"),\n",
    "        lang=lang,\n",
    "        romanize=False,\n",
    "        lower_case=True, gzip=False,\n",
    "        verbose=True)\n",
    "    BPEfastApply(\n",
    "        str(CACHE_PATH / f\"title.{lang}.tok\"),\n",
    "        str(CACHE_PATH / f\"title.{lang}.bpe\"),\n",
    "        bpe_codes,\n",
    "        verbose=True, over_write=True)\n",
    "    EncodeFile(\n",
    "        encoder,\n",
    "        str(CACHE_PATH / f\"title.{lang}.bpe\"),\n",
    "        str(CACHE_PATH / f\"title.{lang}.enc\"),\n",
    "        verbose=True, over_write=True)    "
   ]
  },
  {
   "cell_type": "markdown",
   "metadata": {},
   "source": [
    "## Indexing and Evaluation"
   ]
  },
  {
   "cell_type": "code",
   "execution_count": 16,
   "metadata": {},
   "outputs": [
    {
     "name": "stdout",
     "output_type": "stream",
     "text": [
      " - embedding: cache/title.en.enc 2992 examples of dim 1024\n",
      " - creating FAISS index\n",
      " - embedding: cache/title.zh.enc 19 examples of dim 1024\n",
      " - creating FAISS index\n"
     ]
    }
   ],
   "source": [
    "data_en, index_en = IndexCreate(\n",
    "    str(CACHE_PATH / \"title.en.enc\"), 'FlatL2', verbose=True, save_index=False)\n",
    "data_zh, index_zh = IndexCreate(\n",
    "    str(CACHE_PATH / \"title.zh.enc\"), 'FlatL2', verbose=True, save_index=False)"
   ]
  },
  {
   "cell_type": "code",
   "execution_count": 17,
   "metadata": {},
   "outputs": [],
   "source": [
    "# Top 3 predictions (Nearest 3 Neighbors)\n",
    "_, matched_indices = index_en.search(data_zh, 3)"
   ]
  },
  {
   "cell_type": "code",
   "execution_count": 18,
   "metadata": {
    "scrolled": false
   },
   "outputs": [
    {
     "name": "stdout",
     "output_type": "stream",
     "text": [
      "Chinese:    决定成功的“两种规则”\n",
      "Correct:    The Two Codes Your Kids Need to Know\n",
      "Predict(1): A Tale of Two Trumps\n",
      "Predict(2): The Case Against ‘Border Security’\n",
      "Predict(3): Personal Stories Behind the ‘Green Book’\n",
      "\n",
      "--------------------\n",
      "Chinese:    文革专家马若德：照亮那个难以理解的时代\n",
      "Correct:    Roderick MacFarquhar, Eminent China Scholar, Dies at 88\n",
      "Predict(1): Nonfiction: Where Trolls Reigned Free: A New History of Reddit\n",
      "Predict(2): Walter H. Munk, Scientist-Explorer Who Illuminated the Deep, Dies at 101\n",
      "Predict(3): Election 2018 Misinformation Roundup: ‘Problematic’ Text Messages and Doctored Mailers\n",
      "\n",
      "--------------------\n",
      "Chinese:    张艺谋文革题材新片退出柏林电影节\n",
      "Correct:    Film Set in China’s Cultural Revolution Is Pulled From Berlin Festival\n",
      "Predict(1): Film Set in China’s Cultural Revolution Is Pulled From Berlin Festival\n",
      "Predict(2): Army Issues New Reprimand to Leader of Green Beret Team Ambushed in Niger\n",
      "Predict(3): Reformed Gang Leader in Denmark Shot Dead Leaving Book Party\n",
      "\n",
      "--------------------\n",
      "Chinese:    美国将禁止中国设备进入5G市场\n",
      "Correct:    Administration Readies Order to Keep China Out of Wireless Networks\n",
      "Predict(1): Key Senator Warns of Dangers of Chinese Investment in 5G Networks\n",
      "Predict(2): China Warns 2 American Warships in South China Sea\n",
      "Predict(3): In 5G Race With China, U.S. Pushes Allies to Fight Huawei\n",
      "\n",
      "--------------------\n",
      "Chinese:    热切与中国修好的捷克为何对华为“变脸”？\n",
      "Correct:    Huawei Was a Czech Favorite. Now? It’s a National Security Threat.\n",
      "Predict(1): What Are Britain’s ‘Golden Visas’ and Why Are They Being Suspended?\n",
      "Predict(2): Gap, Wary of Offending China, Apologizes for T-Shirt’s ‘Erroneous’ Map\n",
      "Predict(3): Charge That Tycoon Bribed U.N. Official Fuels Fear of Chinese Meddling\n",
      "\n",
      "--------------------\n",
      "Chinese:    中美贸易谈判面临巨大障碍：北京能否履行承诺？\n",
      "Correct:    U.S.-China Trade Talks Face Big Obstacle: Ensuring That Promises Are Kept\n",
      "Predict(1): U.S.-China Trade Talks Face Big Obstacle: Ensuring That Promises Are Kept\n",
      "Predict(2): A Bargain Store Has Britons Asking: Can You Really Pop the Question With Plastic?\n",
      "Predict(3): North Korea Postpones Talks With South, Hinting Kim-Trump Summit Is in Peril\n",
      "\n",
      "--------------------\n",
      "Chinese:    报告指特朗普以错误方式反击中国\n",
      "Correct:    Trump Trying to Counter China in the ‘Wrong Way,’ Former Officials Say\n",
      "Predict(1): Trump Denies Reaching Deal With China on ZTE\n",
      "Predict(2): Trump Trying to Counter China in the ‘Wrong Way,’ Former Officials Say\n",
      "Predict(3): Sacklers Directed Efforts to Mislead Public About OxyContin, New Documents Indicate\n",
      "\n",
      "--------------------\n",
      "Chinese:    《中国式家长》让你做一次“虎爸虎妈”\n",
      "Correct:    In China, This Video Game Lets You Be a Tiger Mom or a Driven Dad\n",
      "Predict(1): In China, This Video Game Lets You Be a Tiger Mom or a Driven Dad\n",
      "Predict(2): Albany’s ‘Wonder Twins’ Form a Power Duo, Challenging Cuomo’s Influence\n",
      "Predict(3): Korean Air Staff in Protest Against ‘Nut Rage’ Family\n",
      "\n",
      "--------------------\n",
      "Chinese:    婚外情、裸照和贝佐斯的战争\n",
      "Correct:    Daddy Warbucks Goes to War\n",
      "Predict(1): Books News: Dan Mallory, 2 Starkly Similar Novels and the Puzzle of Plagiarism\n",
      "Predict(2): The Tabloid Myths of Jennifer Aniston and Donald Trump\n",
      "Predict(3): Excess, Hubris and the Fall of Najib Razak, Malaysia’s ‘Man of Steal’\n",
      "\n",
      "--------------------\n",
      "Chinese:    寻找艾衣提：抗议和诗歌的火种在维族音乐中燃烧\n",
      "Correct:    MUSIC; In a Far-Flung Corner of China, a Folk Star\n",
      "Predict(1): In China, Dolce & Gabbana Draws Fire and Accusations of Racism on Social Media\n",
      "Predict(2): Album Review: Ariana Grande Is Living a Public Life. The Real Reveals Are in Her Music.\n",
      "Predict(3): Ducking and Weaving: Corbyn’s Vanishing Act on Brexit\n",
      "\n",
      "--------------------\n",
      "Chinese:    美国不该对中国的互联网审查姑息讨好\n",
      "Correct:    China’s Online Censorship Stifles Trade, Too\n",
      "Predict(1): Rights Groups Seek U.N. Inquiry Into China’s Mass Detention of Muslims\n",
      "Predict(2): US Stocks Surge on US-China Trade Deal Optimism\n",
      "Predict(3): Canada Blocks Chinese Takeover on Security Concerns\n",
      "\n",
      "--------------------\n",
      "Chinese:    小小的在华体验中心如何帮Facebook赚大钱？\n",
      "Correct:    How Facebook’s Tiny China Sales Floor Helps Generate Big Ad Money\n",
      "Predict(1): How Facebook’s Tiny China Sales Floor Helps Generate Big Ad Money\n",
      "Predict(2): How Facebook’s P.R. Firm Brought Political Trickery to Tech\n",
      "Predict(3): Who Posted Viral Video of Covington Students and Protester? Congress Wants to Know\n",
      "\n",
      "--------------------\n",
      "Chinese:    《流浪地球》：中国电影业加入“太空竞赛”\n",
      "Correct:    China’s Film Industry Finally Joins the Space Race\n",
      "Predict(1): China’s Film Industry Finally Joins the Space Race\n",
      "Predict(2): Film Set in China’s Cultural Revolution Is Pulled From Berlin Festival\n",
      "Predict(3): Square Feet: In Taiwan, an Invitation to a ‘Living Room’ for Culture\n",
      "\n",
      "--------------------\n",
      "Chinese:    中国能将不毛之地变为世界经济的中心吗？\n",
      "Correct:    Can China Turn the Middle of Nowhere Into the Center of the World Economy?\n",
      "Predict(1): Can China Turn the Middle of Nowhere Into the Center of the World Economy?\n",
      "Predict(2): Chinese Consumers’ Confidence Sags, Casting a Pall Over the Global Economy\n",
      "Predict(3): Can Europe’s Liberal Order Survive as the Memory of War Fades?\n",
      "\n",
      "--------------------\n",
      "Chinese:    土耳其谴责中国，敦促关闭新疆拘禁营\n",
      "Correct:    Turkey Urges China to End Mass Detention of Muslims\n",
      "Predict(1): Turkey Urges China to End Mass Detention of Muslims\n",
      "Predict(2): Rights Groups Seek U.N. Inquiry Into China’s Mass Detention of Muslims\n",
      "Predict(3): After Snubbing Taiwan, Burkina Faso Establishes Diplomatic Ties With China\n",
      "\n",
      "--------------------\n",
      "Chinese:    华为在欧发起反击：要求捷克撤回安全威胁警告\n",
      "Correct:    Huawei Threatens Lawsuit Against Czech Republic After Security Warning\n",
      "Predict(1): Huawei Threatens Lawsuit Against Czech Republic After Security Warning\n",
      "Predict(2): Virginia Democrat Backs Off Effort to Open Impeachment Inquiry Against Fairfax\n",
      "Predict(3): Pelosi Urges Democrats to Back Border Security Deal as Republicans Fall in Line\n",
      "\n",
      "--------------------\n",
      "Chinese:    习近平春节视察：包饺子、话家常、测试防暴装备\n",
      "Correct:    Xi Jinping’s New Year Tour: Dumplings and Riot Gear\n",
      "Predict(1): Washington Memo: Washington as Unruly Sandbox: Squabbles, Antics and Tantrums\n",
      "Predict(2): Xi Jinping’s New Year Tour: Dumplings and Riot Gear\n",
      "Predict(3): Pursuits: Shetland Islands: Scenery, Sheep and Knitters Galore on Britain’s Northern Tip\n",
      "\n",
      "--------------------\n",
      "Chinese:    对抗中国是一场团体战（漫画）\n",
      "Correct:    Beating China Is a Team Sport\n",
      "Predict(1): Beating China Is a Team Sport\n",
      "Predict(2): Latest Threat to China: Peppa Pig, Countercultural Cartoon Character\n",
      "Predict(3): MUSIC; In a Far-Flung Corner of China, a Folk Star\n",
      "\n",
      "--------------------\n",
      "Chinese:    劳工维权给习近平的“中国梦”蒙上阴影\n",
      "Correct:    Workers’ Activism Rises as China’s Economy Slows. Xi Aims to Rein Them In.\n",
      "Predict(1): Pessimism Looms Over Prospect of a Sweeping China Trade Deal\n",
      "Predict(2): Wall Street Slides on Renewed U.S.-China Trade Fears\n",
      "Predict(3): China’s Ambassador to Canada Blames ‘White Supremacy’ in Feud Over Arrests\n",
      "\n",
      "--------------------\n",
      "Top 1 Accuracy: 47.37%\n",
      "Top 3 Accuracy: 57.89%\n"
     ]
    }
   ],
   "source": [
    "top1_correct, top3_correct = 0, 0\n",
    "for i, ztitle in enumerate(chinese_titles):\n",
    "    print(\n",
    "        \"Chinese:    \", ztitle, \"\\n\",\n",
    "        \"Correct:    \", translated_titles[i], \"\\n\",\n",
    "        \"Predict(1): \", english_titles[matched_indices[i, 0]], \"\\n\",\n",
    "        \"Predict(2): \", english_titles[matched_indices[i, 1]], \"\\n\",\n",
    "        \"Predict(3): \", english_titles[matched_indices[i, 2]], \"\\n\",\n",
    "        sep=\"\"\n",
    "    )\n",
    "    if english_titles[matched_indices[i, 0]] == translated_titles[i]:\n",
    "        top1_correct += 1\n",
    "    if translated_titles[i] in (\n",
    "        english_titles[matched_indices[i, 0]],\n",
    "        english_titles[matched_indices[i, 1]],\n",
    "        english_titles[matched_indices[i, 2]]):\n",
    "        top3_correct += 1\n",
    "    print(\"-\" * 20)\n",
    "print(f\"Top 1 Accuracy: {top1_correct / len(chinese_titles) * 100:.2f}%\")\n",
    "print(f\"Top 3 Accuracy: {top3_correct / len(chinese_titles) * 100:.2f}%\")"
   ]
  },
  {
   "cell_type": "code",
   "execution_count": null,
   "metadata": {},
   "outputs": [],
   "source": []
  }
 ],
 "metadata": {
  "kernelspec": {
   "display_name": "Python 3",
   "language": "python",
   "name": "python3"
  },
  "language_info": {
   "codemirror_mode": {
    "name": "ipython",
    "version": 3
   },
   "file_extension": ".py",
   "mimetype": "text/x-python",
   "name": "python",
   "nbconvert_exporter": "python",
   "pygments_lexer": "ipython3",
   "version": "3.7.2"
  }
 },
 "nbformat": 4,
 "nbformat_minor": 2
}
