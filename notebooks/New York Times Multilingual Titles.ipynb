{
 "cells": [
  {
   "cell_type": "code",
   "execution_count": 1,
   "metadata": {},
   "outputs": [],
   "source": [
    "import re\n",
    "import os\n",
    "import sys\n",
    "import requests\n",
    "from pathlib import Path\n",
    "from itertools import chain\n",
    "\n",
    "import numpy as np\n",
    "from bs4 import BeautifulSoup"
   ]
  },
  {
   "cell_type": "code",
   "execution_count": 2,
   "metadata": {},
   "outputs": [],
   "source": [
    "LASER_PATH = Path(\"..\")\n",
    "sys.path.append(str(LASER_PATH.resolve()))\n",
    "os.environ[\"LASER\"] = str(LASER_PATH.resolve())\n",
    "\n",
    "MODEL_PATH = Path(\"../models\")\n",
    "\n",
    "from source.shortcuts import lines_to_index"
   ]
  },
  {
   "cell_type": "code",
   "execution_count": 3,
   "metadata": {},
   "outputs": [],
   "source": [
    "# Local network settings\n",
    "proxies = {\n",
    "  'http': 'socks5h://192.168.199.10:12133',\n",
    "  'https': 'socks5h://192.168.199.10:12133',\n",
    "}"
   ]
  },
  {
   "cell_type": "code",
   "execution_count": 4,
   "metadata": {},
   "outputs": [],
   "source": [
    "def cjk_detect(texts):\n",
    "    # korean\n",
    "    if re.search(\"[\\uac00-\\ud7a3]\", texts):\n",
    "        return \"ko\"\n",
    "    # japanese\n",
    "    if re.search(\"[\\u3040-\\u30ff]\", texts):\n",
    "        return \"ja\"\n",
    "    # chinese\n",
    "    if re.search(\"[\\u4e00-\\u9FFF]\", texts):\n",
    "        return \"zh\"\n",
    "    return None"
   ]
  },
  {
   "cell_type": "markdown",
   "metadata": {},
   "source": [
    "## Collect Data"
   ]
  },
  {
   "cell_type": "markdown",
   "metadata": {},
   "source": [
    "[Feedly Stream API documentation](https://developer.feedly.com/v3/streams/)"
   ]
  },
  {
   "cell_type": "code",
   "execution_count": 5,
   "metadata": {},
   "outputs": [],
   "source": [
    "english_feeds = [\n",
    "    \"https://www.nytimes.com/services/xml/rss/nyt/HomePage.xml\",\n",
    "    \"https://www.nytimes.com/services/xml/rss/nyt/AsiaPacific.xml\",\n",
    "    \"https://www.nytimes.com/services/xml/rss/nyt/Europe.xml\",\n",
    "    \"https://www.nytimes.com/services/xml/rss/nyt/Politics.xml\",\n",
    "    \"http://feeds.nytimes.com/nyt/rss/Business\",\n",
    "    \"http://feeds.nytimes.com/nyt/rss/Technology\",\n",
    "    \"https://www.nytimes.com/svc/collections/v1/publish/https://www.nytimes.com/section/opinion/rss.xml\"\n",
    "]"
   ]
  },
  {
   "cell_type": "code",
   "execution_count": 6,
   "metadata": {},
   "outputs": [],
   "source": [
    "def fetch_latest(feed_url, count=300):\n",
    "    res = requests.get(\n",
    "        'https://cloud.feedly.com//v3/streams/contents'\n",
    "        f'?streamId=feed/{feed_url}&count={count}',\n",
    "        proxies=proxies\n",
    "    )\n",
    "    return res.json()"
   ]
  },
  {
   "cell_type": "code",
   "execution_count": 7,
   "metadata": {},
   "outputs": [
    {
     "data": {
      "text/plain": [
       "['Why Crocodiles Are Not Just Living Fossils',\n",
       " 'Becoming a Digital Grandparent',\n",
       " 'The Myth of Period Syncing',\n",
       " 'What Was the Cause of the Excruciating Pain in His Shoulders and Hips?',\n",
       " 'China Summons Tech Giants to Warn Against Cooperating With Trump Ban']"
      ]
     },
     "execution_count": 7,
     "metadata": {},
     "output_type": "execute_result"
    }
   ],
   "source": [
    "english_items = list(chain.from_iterable([\n",
    "    fetch_latest(x)[\"items\"] for x in english_feeds]))\n",
    "# Don't include briefings and make sure not CJK characters in the title\n",
    "english_titles = [x[\"title\"] for x in english_items if (\"Briefing\" not in x[\"title\"]) and (not cjk_detect(x[\"title\"]))]\n",
    "english_titles[:5]"
   ]
  },
  {
   "cell_type": "code",
   "execution_count": 8,
   "metadata": {},
   "outputs": [],
   "source": [
    "chinese_items = fetch_latest('https://cn.nytimes.com/rss/', count=50)[\"items\"]"
   ]
  },
  {
   "cell_type": "code",
   "execution_count": 9,
   "metadata": {},
   "outputs": [
    {
     "name": "stdout",
     "output_type": "stream",
     "text": [
      "English Title Not Found for 75年前，敲响纳粹德国丧钟的那个作战日\n",
      "skipped https://cn.nytimes.com/morning-brief/20190606/xi-jinping-china-russia-richard-liu-rape-video/\n",
      "skipped https://cn.nytimes.com/morning-brief/20190605/tiananmen-anniversary-china-food-prices/\n",
      "English Title Not Found for 后天安门时代的“失忆人民共和国”\n",
      "skipped https://cn.nytimes.com/morning-brief/20190604/tiananmen-30th-anniversary/\n",
      "English Title Not Found for 带你去看曼哈顿悬日\n",
      "English Title Not Found for “六四”前夕部分中国异见者Twitter账号被封\n",
      "skipped https://cn.nytimes.com/morning-brief/20190603/power-games-tiananmen-crackdown-trade-war/\n",
      "English Title Not Found for 关于赵小兰家族与中国的密切联系，你应该知道的五个要点\n",
      "English Title Not Found for 前军官谈“六四”：派军队清场，就不好再出牌了\n",
      "English Title Not Found for 一场没有“互扔泥巴”的辩论\n",
      "skipped https://cn.nytimes.com/morning-brief/20190531/june-4th-in-chengdu-trade-war-tariff-manufacturer/\n",
      "English Title Not Found for 小天安门：美国议员回忆成都“六四”\n",
      "skipped https://cn.nytimes.com/morning-brief/20190530/huawei-us-lawsuit-anchors-debate-trade/\n",
      "English Title Not Found for 向前一步，竞选美国总统\n"
     ]
    },
    {
     "data": {
      "text/plain": [
       "35"
      ]
     },
     "execution_count": 9,
     "metadata": {},
     "output_type": "execute_result"
    }
   ],
   "source": [
    "# collect news title in English\n",
    "chinese_titles, translated_titles = [], []\n",
    "for item in chinese_items:\n",
    "    if \"title\" not in item or \"简报\" in item[\"title\"]:\n",
    "        print(f\"skipped {item['originId']}\")\n",
    "        continue\n",
    "    res = requests.get(item[\"originId\"] + \"dual/\", proxies=proxies)\n",
    "    soup = BeautifulSoup(res.text)\n",
    "    if soup.find(\"h1\", attrs={\"class\": \"en-title\"}):\n",
    "        translated_titles.append(soup.find(\"h1\", attrs={\"class\": \"en-title\"}).text)\n",
    "        chinese_titles.append(item[\"title\"])\n",
    "    else:\n",
    "        print(f\"English Title Not Found for {item['title']}\")\n",
    "len(chinese_titles)"
   ]
  },
  {
   "cell_type": "code",
   "execution_count": 10,
   "metadata": {},
   "outputs": [],
   "source": [
    "english_titles = list(set(english_titles + translated_titles))"
   ]
  },
  {
   "cell_type": "markdown",
   "metadata": {},
   "source": [
    "## Tokenization and Indexing"
   ]
  },
  {
   "cell_type": "code",
   "execution_count": 11,
   "metadata": {},
   "outputs": [
    {
     "name": "stdout",
     "output_type": "stream",
     "text": [
      " - Tokenizer: source in language en  \n",
      " - fast BPE: processing token\n",
      " - Encoder: bpe to enc\n",
      " - Encoder: 1693 sentences in 12s\n",
      " - embedding: /tmp/tmpt_f819j9/enc 1693 examples of dim 1024\n",
      " - creating FAISS index\n"
     ]
    }
   ],
   "source": [
    "data_en, index_en = lines_to_index(\n",
    "    \"en\", english_titles, \n",
    "    str(MODEL_PATH / \"bilstm.93langs.2018-12-26.pt\"), \n",
    "    str(MODEL_PATH / \"93langs.fcodes\"),\n",
    "    use_cpu=False,\n",
    "    batch_size=20\n",
    ")"
   ]
  },
  {
   "cell_type": "code",
   "execution_count": 12,
   "metadata": {},
   "outputs": [
    {
     "name": "stdout",
     "output_type": "stream",
     "text": [
      " - Tokenizer: source in language zh  \n",
      " - fast BPE: processing token\n",
      " - Encoder: bpe to enc\n",
      " - Encoder: 35 sentences in 0s\n",
      " - embedding: /tmp/tmp2fr7uink/enc 35 examples of dim 1024\n",
      " - creating FAISS index\n"
     ]
    }
   ],
   "source": [
    "data_zh, index_zh = lines_to_index(\n",
    "    \"zh\", chinese_titles, \n",
    "    str(MODEL_PATH / \"bilstm.93langs.2018-12-26.pt\"), \n",
    "    str(MODEL_PATH / \"93langs.fcodes\"),\n",
    "    use_cpu=False,\n",
    "    batch_size=5\n",
    ")"
   ]
  },
  {
   "cell_type": "markdown",
   "metadata": {},
   "source": [
    "## Evaluation"
   ]
  },
  {
   "cell_type": "code",
   "execution_count": 13,
   "metadata": {},
   "outputs": [],
   "source": [
    "# Top 3 predictions (Nearest 3 Neighbors)\n",
    "_, matched_indices = index_en.search(data_zh, 3)"
   ]
  },
  {
   "cell_type": "code",
   "execution_count": 14,
   "metadata": {
    "scrolled": false
   },
   "outputs": [
    {
     "name": "stdout",
     "output_type": "stream",
     "text": [
      "Chinese:    一场谋杀，一个破碎的加拿大移民梦\n",
      "Correct:    A Tale of Murder, Revenge and a Canadian Immigrant Dream Gone Wrong\n",
      "Predict(1): A Tale of Murder, Revenge and a Canadian Immigrant Dream Gone Wrong\n",
      "Predict(2): Hong Kong Dispatch: A Trump Bump for Hong Kong’s Last Commercial Cantonese Opera Theater\n",
      "Predict(3): Gunmen Attack Pakistan Luxury Hotel Used by Chinese\n",
      "\n",
      "--------------------\n",
      "Chinese:    刘强东案引发中国强奸文化讨论\n",
      "Correct:    In China, a Viral Video Sparks a Challenge to Rape Culture\n",
      "Predict(1): In China, a Viral Video Sparks a Challenge to Rape Culture\n",
      "Predict(2): In China, a Viral Video Sets Off a Challenge to Rape Culture\n",
      "Predict(3): Treasury Declines to Label China Currency Manipulator\n",
      "\n",
      "--------------------\n",
      "Chinese:    中国反垄断机构处罚福特在华合资公司\n",
      "Correct:    Ford Is Fined in China as Trade Fight With U.S. Rages\n",
      "Predict(1): In Push for Trade Deal, Trump Administration Shelves Sanctions Over China’s Crackdown on Uighurs\n",
      "Predict(2): China Strikes Defiant Stance on Trade Against Trump\n",
      "Predict(3): Treasury Declines to Label China Currency Manipulator\n",
      "\n",
      "--------------------\n",
      "Chinese:    贸易战僵局中，习近平高调访俄强化中俄关系\n",
      "Correct:    Xi Jinping’s Visit to Russia Accents Ties in Face of Tensions with U.S.\n",
      "Predict(1): In Push for Trade Deal, Trump Administration Shelves Sanctions Over China’s Crackdown on Uighurs\n",
      "Predict(2): In Graduation Speech, Hillary Clinton Calls for Renewed Attention on Russian Interference\n",
      "Predict(3): Trump and Biden Campaign Trade Jabs Over North Korea’s Remarks\n",
      "\n",
      "--------------------\n",
      "Chinese:    特朗普和习近平该坐下来谈谈了\n",
      "Correct:    The U.S. and Chinese Presidents Should Go on a Weekend Retreat\n",
      "Predict(1): Jeremy Corbyn Halts Brexit Talks With Theresa May\n",
      "Predict(2): Tesla and Elon Musk Are Given Week to Reach Accord With S.E.C.\n",
      "Predict(3): The Paparazzi Staked Outside Ivanka Trump and Jared Kushner’s D.C. Home\n",
      "\n",
      "--------------------\n",
      "Chinese:    因天安门事件觉醒的中国政治漫画家\n",
      "Correct:    How the Tiananmen Massacre Shocked, Then Inspired a Chinese Political Cartoonist\n",
      "Predict(1): How the Tiananmen Massacre Shocked, Then Inspired a Chinese Political Cartoonist\n",
      "Predict(2): In Hong Kong, a Publisher Struggles to Document Tiananmen’s Carnage\n",
      "Predict(3): In China, a Reuters Partner Blocks Articles on the Tiananmen Square Massacre\n",
      "\n",
      "--------------------\n",
      "Chinese:    政治高压下，挣扎求生的香港独立出版商\n",
      "Correct:    In Hong Kong, a Publisher Struggles to Document Tiananmen’s Carnage\n",
      "Predict(1): Silver King, Mexican Wrestler, Dies in Ring During Lucha Libre Match\n",
      "Predict(2): Tech Giants Amass a Lobbying Army for an Epic Washington Battle\n",
      "Predict(3): In a Possible First for Hong Kong, Activists Wanted by Police Gain Protection in Germany\n",
      "\n",
      "--------------------\n",
      "Chinese:    女性高潮研讨会：在羞于谈性的中国打破禁忌\n",
      "Correct:    In China, Public Talk of Sex Is Rare. Could a ‘Pleasure Community’ Change That?\n",
      "Predict(1): Treasury Declines to Label China Currency Manipulator\n",
      "Predict(2): Hong Kong Dispatch: A Trump Bump for Hong Kong’s Last Commercial Cantonese Opera Theater\n",
      "Predict(3): U.S.-China Trade Talks Stumble on Beijing’s Spending at Home\n",
      "\n",
      "--------------------\n",
      "Chinese:    路透社合作伙伴删除“六四”相关文章\n",
      "Correct:    In China, a Reuters Partner Blocks Articles on the Tiananmen Square Massacre\n",
      "Predict(1): E.P.A. Experts Objected to ‘Misleading’ Agency Smog Decision, Emails Show\n",
      "Predict(2): In China, a Reuters Partner Blocks Articles on the Tiananmen Square Massacre\n",
      "Predict(3): N.B.A. Finals Live Updates: Raptors vs. Warriors Game 4\n",
      "\n",
      "--------------------\n",
      "Chinese:    “六四”纪念日：北京静默严控，香港烛光悼殇\n",
      "Correct:    Tiananmen Anniversary Draws Silence in Beijing but Emotion in Hong Kong\n",
      "Predict(1): Tiananmen Anniversary Draws Silence in Beijing but Emotion in Hong Kong\n",
      "Predict(2): ‘St. George’ Tiller: Abortion With Compassion\n",
      "Predict(3): News Analysis: The Choice in India: ‘Our Trump’ or a Messier Democracy\n",
      "\n",
      "--------------------\n",
      "Chinese:    那个世界所熟知的香港，会死亡吗？\n",
      "Correct:    The Death of Hong Kong as We Know It?\n",
      "Predict(1): The Death of Hong Kong as We Know It?\n",
      "Predict(2): I.M. Pei, World-Renowned Architect, Is Dead at 102\n",
      "Predict(3): Hannelore Elsner, Compelling German Actress, Is Dead at 76\n",
      "\n",
      "--------------------\n",
      "Chinese:    除了经济放缓与贸易战，中国又迎来了食品涨价\n",
      "Correct:    A Slower Economy. A Trade War. Now, China Faces Rising Food Prices.\n",
      "Predict(1): A Slower Economy. A Trade War. Now, China Faces Rising Food Prices.\n",
      "Predict(2): Stocks Stabilize as U.S.-China Trade War Enters New Stage\n",
      "Predict(3): Alibaba Reports Slower Growth as U.S.-China Trade War Intensifies\n",
      "\n",
      "--------------------\n",
      "Chinese:    “我对自己国家的历史一无所知”\n",
      "Correct:    After Tiananmen, China Conquers History Itself\n",
      "Predict(1): ‘I Don’t Even Know How to Talk to the Other Side About This’\n",
      "Predict(2): ‘I Am a Problem There Is No Solution To’\n",
      "Predict(3): Preparing My Family for Life Without Me\n",
      "\n",
      "--------------------\n",
      "Chinese:    寻找“坦克人”：自由与反抗的神秘象征\n",
      "Correct:    30 Years After Tiananmen, ‘Tank Man’ Remains an Icon and a Mystery\n",
      "Predict(1): 30 Years After Tiananmen, ‘Tank Man’ Remains an Icon and a Mystery\n",
      "Predict(2): Women’s Soccer’s Big Moment, Big-Footed by Indifference and a ‘Clerical Error’\n",
      "Predict(3): Impeaching Trump: A Moral Imperative, or Pointless?\n",
      "\n",
      "--------------------\n",
      "Chinese:    周舵眼中的“六四”与中国民主的未来\n",
      "Correct:    He Stayed at Tiananmen to the End. Now He Wonders What It Meant.\n",
      "Predict(1): The Trade War’s Next Front? China’s Access to Wall Street\n",
      "Predict(2): Anchors From Fox and Chinese State TV to Hold Live Debate on Trade\n",
      "Predict(3): Trade War Dents China’s Sway Over U.S. Business and Political Leaders\n",
      "\n",
      "--------------------\n",
      "Chinese:    时报“六四”档案：“街头的痛苦、愤怒和眼泪”\n",
      "Correct:    ‘In the Streets, Anguish, Fury and Tears’\n",
      "Predict(1): ‘In the Streets, Anguish, Fury and Tears’\n",
      "Predict(2): Women’s Soccer’s Big Moment, Big-Footed by Indifference and a ‘Clerical Error’\n",
      "Predict(3): Michael Wolff Talks ‘Siege,’ Trump, Journalism and His Definition of Truth\n",
      "\n",
      "--------------------\n",
      "Chinese:    “六四”在中国是个禁忌，但总有人会记得\n",
      "Correct:    Thirty Years After Tiananmen: Someone Always Remembers\n",
      "Predict(1): Thirty Years After Tiananmen: Someone Always Remembers\n",
      "Predict(2): 30 Years After Tiananmen, a Chinese Military Insider Warns: Never Forget\n",
      "Predict(3): Kushner Sees a Problem in Trump’s Fund-Raising, but Not Everyone Agrees\n",
      "\n",
      "--------------------\n",
      "Chinese:    王丹：我从领导天安门抗议中学到了什么\n",
      "Correct:    What I Learned Leading the Tiananmen Protests\n",
      "Predict(1): Silicon Valley Came to Kansas Schools. That Started a Rebellion.\n",
      "Predict(2): What I Learned Leading the Tiananmen Protests\n",
      "Predict(3): F.B.I. Is Said to Be Investigating College Admissions Practices at T.M. Landry\n",
      "\n",
      "--------------------\n",
      "Chinese:    六四那晚，一名人力车夫请求我：告诉全世界！\n",
      "Correct:    At the Tiananmen Massacre, a Rescuer Pleads to Me: Tell the World!\n",
      "Predict(1): At the Tiananmen Massacre, a Rescuer Pleads to Me: Tell the World!\n",
      "Predict(2): Take Two Bike Rides and Call Me in the Morning: Cycling as Doctor’s Orders\n",
      "Predict(3): 30 Years After Tiananmen, a Chinese Military Insider Warns: Never Forget\n",
      "\n",
      "--------------------\n",
      "Chinese:    中国强势回应特朗普，为贸易持久战做准备\n",
      "Correct:    China Strikes Defiant Stance on Trade Against Trump\n",
      "Predict(1): Trump Administration to Announce Farm Aid to Ease Pain of Trade War\n",
      "Predict(2): Trump Hands China an Easy Win in the Trade War\n",
      "Predict(3): China Strikes Defiant Stance on Trade Against Trump\n",
      "\n",
      "--------------------\n",
      "Chinese:    中国将建立“不可靠实体清单”反击美国\n",
      "Correct:    As China Takes Aim, Silicon Valley Braces for Pain\n",
      "Predict(1): China Steps Up Trade War and Plans Blacklist of U.S. Firms\n",
      "Predict(2): China Plans a List of U.S. Firms to Block, in Answer to Trump\n",
      "Predict(3): Austria Chancellor Faces Prospect of No-Confidence Vote as Coalition Unravels\n",
      "\n",
      "--------------------\n",
      "Chinese:    中国“不可说”的纪念日（漫画）\n",
      "Correct:    The Anniversary China Avoids\n",
      "Predict(1): The Anniversary China Avoids\n",
      "Predict(2): In China, Public Talk of Sex Is Rare. Could a ‘Pleasure Community’ Change That?\n",
      "Predict(3): In China, a Podcast Inspired by ‘This American Life’ Gives Voice to the Real\n",
      "\n",
      "--------------------\n",
      "Chinese:    中共秘密资料揭开“六四”镇压背后的权力游戏\n",
      "Correct:    New Documents Show Power Games Behind China’s Tiananmen Crackdown\n",
      "Predict(1): New Documents Show Power Games Behind China’s Tiananmen Crackdown\n",
      "Predict(2): Justice Dept. Keeps Wiretaps Secret in Flynn Case, Rejecting Judge’s Order\n",
      "Predict(3): ‘Dark Phoenix’ Review: X-Women Power? Nah\n",
      "\n",
      "--------------------\n",
      "Chinese:    河内峰会后大清洗？韩媒称金正恩处决多名官员\n",
      "Correct:    South Korean Daily Says That Kim Jong-un Executed and Purged Top Nuclear Negotiators\n",
      "Predict(1): Roundup Weed Killer Litigation Is Kenneth Feinberg’s Next Challenge as Mediator\n",
      "Predict(2): Warriors Minority Owner Barred Indefinitely for Shoving Toronto’s Kyle Lowry\n",
      "Predict(3): Savior of G.M. Lordstown Plant, Hailed by Trump, Is a Corporate Cipher\n",
      "\n",
      "--------------------\n",
      "Chinese:    贸易战冲击美国制造业，重塑全球经济\n",
      "Correct:    Trade War Starts Changing Manufacturers in Hard-to-Reverse Ways\n",
      "Predict(1): Bailout for U.S. Farmers Hurt by Trade War\n",
      "Predict(2): Trade War Dents China’s Sway Over U.S. Business and Political Leaders\n",
      "Predict(3): China Steps Up Trade War and Plans Blacklist of U.S. Firms\n",
      "\n",
      "--------------------\n",
      "Chinese:    封藏30年的“六四”照片公诸于世\n",
      "Correct:    Photos of the Tiananmen Square Protests Through the Lens of a Student Witness\n",
      "Predict(1): Developers Built a 30-Story High-Rise. They Might Have to Chop Off 5 Floors.\n",
      "Predict(2): Police Officer Sentenced to 12.5 Years in Death of Minneapolis Woman\n",
      "Predict(3): Everett Raymond Kinstler, Prolific Portraitist, Dies at 92\n",
      "\n",
      "--------------------\n",
      "Chinese:    当“脱北美女”成为韩国综艺节目的主角\n",
      "Correct:    Where North and South Korea Meet: On TV\n",
      "Predict(1): ‘For Colored Girls’ and ‘Soft Power’ Will Be Part of Public Theater Season\n",
      "Predict(2): North Korean Negotiator’s Downfall Was Sealed When Trump-Kim Summit Collapsed\n",
      "Predict(3): These Girls’ Soccer Players Joined Boys’ Leagues. And Dominated.\n",
      "\n",
      "--------------------\n",
      "Chinese:    2019年美国大学申请书选登：关于金钱的五个故事\n",
      "Correct:    Trash, the Library and a Worn, Brown Table: The 2019 College Essays on Money\n",
      "Predict(1): Trash, the Library and a Worn, Brown Table: The 2019 College Essays on Money\n",
      "Predict(2): Apple W.W.D.C. 2019: Live Updates\n",
      "Predict(3): Australia 2019 Election Live Updates: What to Look For\n",
      "\n",
      "--------------------\n",
      "Chinese:    中美电视主持人就贸易战进行辩论\n",
      "Correct:    Anchors From Fox and Chinese State TV Hold Live Debate on Trade\n",
      "Predict(1): Anchors From Fox and Chinese State TV to Hold Live Debate on Trade\n",
      "Predict(2): Anchors From Fox and Chinese State TV Hold Live Debate on Trade\n",
      "Predict(3): Chip Makers Are Punished as the Trade War Drags On\n",
      "\n",
      "--------------------\n",
      "Chinese:    穆勒首次就涉俄调查发声，拒为特朗普无罪背书\n",
      "Correct:    Standing Where Barr Cleared Trump on Obstruction, Mueller Makes a Different Case\n",
      "Predict(1): Mueller, in First Comments on Russia Inquiry, Declines to Clear Trump\n",
      "Predict(2): China Summons Tech Giants to Warn Against Cooperating With Trump Ban\n",
      "Predict(3): Barr Escalates Criticism of Mueller Team and Defends Trump\n",
      "\n",
      "--------------------\n",
      "Chinese:    特朗普为中国送上一手贸易战好牌\n",
      "Correct:    Trump Hands China an Easy Win in the Trade War\n",
      "Predict(1): Trump Hands China an Easy Win in the Trade War\n",
      "Predict(2): Mnuchin Lays Blame for Failed Trade Talks on China\n",
      "Predict(3): Trump Gives Farmers $16 Billion in Aid Amid Prolonged China Trade War\n",
      "\n",
      "--------------------\n",
      "Chinese:    中美贸易战的下一个战场：股市？\n",
      "Correct:    The Trade War’s Next Battle Could Be China’s Access to Wall Street\n",
      "Predict(1): The Trade War’s Next Front? China’s Access to Wall Street\n",
      "Predict(2): New Zealand’s Next Liberal Milestone: A Budget Guided by ‘Well-Being’\n",
      "Predict(3): The Trade War’s Next Battle Could Be China’s Access to Wall Street\n",
      "\n",
      "--------------------\n",
      "Chinese:    华为提交动议，要求加快处理对白宫诉讼\n",
      "Correct:    Huawei Ramps Up U.S. Legal Challenge, With the Media in Mind\n",
      "Predict(1): Emmet T. Flood to Step Down as White House Lawyer\n",
      "Predict(2): Trump Administration to Announce Farm Aid to Ease Pain of Trade War\n",
      "Predict(3): Marine Pleads Guilty to Hazing Death of Green Beret in Mali\n",
      "\n",
      "--------------------\n",
      "Chinese:    大学申请书选登：图书馆给了我通向世界的钥匙\n",
      "Correct:    Trash, the Library and a Worn, Brown Table: The 2019 College Essays on Money\n",
      "Predict(1): Travel Tips: The Key to Cheap Internet Service: A Local SIM Card\n",
      "Predict(2): Trash, the Library and a Worn, Brown Table: The 2019 College Essays on Money\n",
      "Predict(3): The Tiananmen Square Anniversary: A Guide to Our Coverage\n",
      "\n",
      "--------------------\n",
      "Chinese:    永志不忘：六四30年，前军官回忆天安门屠杀\n",
      "Correct:    30 Years After Tiananmen, a Chinese Military Insider Warns: Never Forget\n",
      "Predict(1): Police Officer Sentenced to 12.5 Years in Death of Minneapolis Woman\n",
      "Predict(2): In Hong Kong, a Publisher Struggles to Document Tiananmen’s Carnage\n",
      "Predict(3): 30 Years After Tiananmen, a Chinese Military Insider Warns: Never Forget\n",
      "\n",
      "--------------------\n",
      "Top 1 Accuracy: 40.00%\n",
      "Top 3 Accuracy: 60.00%\n"
     ]
    }
   ],
   "source": [
    "top1_correct, top3_correct = 0, 0\n",
    "for i, ztitle in enumerate(chinese_titles):\n",
    "    print(\n",
    "        \"Chinese:    \", ztitle, \"\\n\",\n",
    "        \"Correct:    \", translated_titles[i], \"\\n\",\n",
    "        \"Predict(1): \", english_titles[matched_indices[i, 0]], \"\\n\",\n",
    "        \"Predict(2): \", english_titles[matched_indices[i, 1]], \"\\n\",\n",
    "        \"Predict(3): \", english_titles[matched_indices[i, 2]], \"\\n\",\n",
    "        sep=\"\"\n",
    "    )\n",
    "    if english_titles[matched_indices[i, 0]] == translated_titles[i]:\n",
    "        top1_correct += 1\n",
    "    if translated_titles[i] in (\n",
    "        english_titles[matched_indices[i, 0]],\n",
    "        english_titles[matched_indices[i, 1]],\n",
    "        english_titles[matched_indices[i, 2]]):\n",
    "        top3_correct += 1\n",
    "    print(\"-\" * 20)\n",
    "print(f\"Top 1 Accuracy: {top1_correct / len(chinese_titles) * 100:.2f}%\")\n",
    "print(f\"Top 3 Accuracy: {top3_correct / len(chinese_titles) * 100:.2f}%\")"
   ]
  },
  {
   "cell_type": "code",
   "execution_count": null,
   "metadata": {},
   "outputs": [],
   "source": []
  }
 ],
 "metadata": {
  "kernelspec": {
   "display_name": "Python 3",
   "language": "python",
   "name": "python3"
  },
  "language_info": {
   "codemirror_mode": {
    "name": "ipython",
    "version": 3
   },
   "file_extension": ".py",
   "mimetype": "text/x-python",
   "name": "python",
   "nbconvert_exporter": "python",
   "pygments_lexer": "ipython3",
   "version": "3.7.3"
  }
 },
 "nbformat": 4,
 "nbformat_minor": 2
}
