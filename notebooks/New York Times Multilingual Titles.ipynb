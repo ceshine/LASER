{
 "cells": [
  {
   "cell_type": "code",
   "execution_count": 1,
   "metadata": {},
   "outputs": [],
   "source": [
    "import os\n",
    "import sys\n",
    "import requests\n",
    "from pathlib import Path\n",
    "from itertools import chain\n",
    "\n",
    "import numpy as np\n",
    "from bs4 import BeautifulSoup"
   ]
  },
  {
   "cell_type": "code",
   "execution_count": 2,
   "metadata": {},
   "outputs": [],
   "source": [
    "LASER_PATH = Path(\"..\")\n",
    "sys.path.append(str(LASER_PATH.resolve()))\n",
    "os.environ[\"LASER\"] = str(LASER_PATH.resolve())\n",
    "\n",
    "MODEL_PATH = Path(\"../models\")\n",
    "\n",
    "from source.shortcuts import lines_to_index"
   ]
  },
  {
   "cell_type": "code",
   "execution_count": 3,
   "metadata": {},
   "outputs": [],
   "source": [
    "# Local network settings\n",
    "proxies = {\n",
    "  'http': 'socks5h://127.0.0.1:12133',\n",
    "  'https': 'socks5h://127.0.0.1:12133',\n",
    "}"
   ]
  },
  {
   "cell_type": "markdown",
   "metadata": {},
   "source": [
    "## Collect Data"
   ]
  },
  {
   "cell_type": "markdown",
   "metadata": {},
   "source": [
    "[Feedly Stream API documentation](https://developer.feedly.com/v3/streams/)"
   ]
  },
  {
   "cell_type": "code",
   "execution_count": 4,
   "metadata": {},
   "outputs": [],
   "source": [
    "english_feeds = [\n",
    "    \"https://www.nytimes.com/services/xml/rss/nyt/HomePage.xml\",\n",
    "    \"https://www.nytimes.com/services/xml/rss/nyt/AsiaPacific.xml\",\n",
    "    \"https://www.nytimes.com/services/xml/rss/nyt/Europe.xml\",\n",
    "    \"https://www.nytimes.com/services/xml/rss/nyt/Politics.xml\",\n",
    "    \"http://feeds.nytimes.com/nyt/rss/Business\",\n",
    "    \"http://feeds.nytimes.com/nyt/rss/Technology\",\n",
    "    \"https://www.nytimes.com/svc/collections/v1/publish/https://www.nytimes.com/section/opinion/rss.xml\"\n",
    "]"
   ]
  },
  {
   "cell_type": "code",
   "execution_count": 5,
   "metadata": {},
   "outputs": [],
   "source": [
    "def fetch_latest(feed_url, count=300):\n",
    "    res = requests.get(\n",
    "        'https://cloud.feedly.com//v3/streams/contents'\n",
    "        f'?streamId=feed/{feed_url}&count={count}',\n",
    "        proxies=proxies\n",
    "    )\n",
    "    return res.json()"
   ]
  },
  {
   "cell_type": "code",
   "execution_count": 6,
   "metadata": {},
   "outputs": [
    {
     "data": {
      "text/plain": [
       "['Li Rui, a Mao Confidant Who Turned Party Critic, Dies at 101',\n",
       " 'Nigeria Postpones Election Just Hours Before Polls Open',\n",
       " 'Mueller’s Office Recommends Paul Manafort Serve Up to 25 Years in Prison',\n",
       " 'An Intrepid Explorer of Mars Falls Silent',\n",
       " 'Lens: Martin Parr: 48 Years of Photographing the Quirky and Kitschy in Manchester']"
      ]
     },
     "execution_count": 6,
     "metadata": {},
     "output_type": "execute_result"
    }
   ],
   "source": [
    "english_items = list(chain.from_iterable([\n",
    "    fetch_latest(x)[\"items\"] for x in english_feeds]))\n",
    "english_titles = [x[\"title\"] for x in english_items if \"Briefing\" not in x[\"title\"]]\n",
    "english_titles[:5]"
   ]
  },
  {
   "cell_type": "code",
   "execution_count": 7,
   "metadata": {},
   "outputs": [],
   "source": [
    "chinese_items = fetch_latest('https://cn.nytimes.com/rss/', count=50)[\"items\"]"
   ]
  },
  {
   "cell_type": "code",
   "execution_count": 8,
   "metadata": {},
   "outputs": [
    {
     "name": "stdout",
     "output_type": "stream",
     "text": [
      "English Title Not Found for 当创新和言论自由成为一种武器\n",
      "skipped https://cn.nytimes.com/morning-brief/20190215/gui-minhai-sweden-china-new-zealand-huawei/\n",
      "English Title Not Found for 伊斯兰革命40年后的伊朗（漫画）\n",
      "skipped https://cn.nytimes.com/morning-brief/20190214/trump-china-zhang-yimou-berlin-film/\n",
      "English Title Not Found for “涂黑脸”是种族歧视吗？\n",
      "skipped https://cn.nytimes.com/morning-brief/20190213/trump-china-trade-lin-zhao/\n",
      "English Title Not Found for 狱中血书：中共为何害怕死去的林昭\n",
      "English Title Not Found for 回应“裸照门”，贝佐斯自创新词？\n",
      "skipped https://cn.nytimes.com/morning-brief/20190212/china-internet-censorship-trump-border-wall/\n",
      "English Title Not Found for 澳大利亚取消中国富商黄向墨永久居住权\n",
      "English Title Not Found for 与机器人谈一场恋爱？\n",
      "skipped https://cn.nytimes.com/morning-brief/20190211/china-workers-protests-turkey-uighurs/\n",
      "skipped https://cn.nytimes.com/?utm_source=RSS\n",
      "English Title Not Found for “合法独裁者”（漫画）\n",
      "English Title Not Found for 什么是“off the record”？\n",
      "skipped https://cn.nytimes.com/morning-brief/20190201/trump-xi-trade-talk-birth-tourism-crackdown/\n",
      "English Title Not Found for 不用画笔作画的艺术家\n",
      "English Title Not Found for “解码”罗伯特·劳森伯格\n",
      "English Title Not Found for 极地涡旋，“冰封”美国的元凶\n"
     ]
    },
    {
     "data": {
      "text/plain": [
       "31"
      ]
     },
     "execution_count": 8,
     "metadata": {},
     "output_type": "execute_result"
    }
   ],
   "source": [
    "# collect news title in English\n",
    "chinese_titles, translated_titles = [], []\n",
    "for item in chinese_items:\n",
    "    if \"title\" not in item or \"简报\" in item[\"title\"]:\n",
    "        print(f\"skipped {item['originId']}\")\n",
    "        continue\n",
    "    res = requests.get(item[\"originId\"] + \"dual/\", proxies=proxies)\n",
    "    soup = BeautifulSoup(res.text)\n",
    "    if soup.find(\"h1\", attrs={\"class\": \"en-title\"}):\n",
    "        translated_titles.append(soup.find(\"h1\", attrs={\"class\": \"en-title\"}).text)\n",
    "        chinese_titles.append(item[\"title\"])\n",
    "    else:\n",
    "        print(f\"English Title Not Found for {item['title']}\")\n",
    "len(chinese_titles)"
   ]
  },
  {
   "cell_type": "code",
   "execution_count": 9,
   "metadata": {},
   "outputs": [],
   "source": [
    "english_titles = list(set(english_titles + translated_titles))"
   ]
  },
  {
   "cell_type": "markdown",
   "metadata": {},
   "source": [
    "## Tokenization and Indexing"
   ]
  },
  {
   "cell_type": "code",
   "execution_count": 10,
   "metadata": {},
   "outputs": [
    {
     "name": "stdout",
     "output_type": "stream",
     "text": [
      " - Tokenizer: source in language en  \n",
      " - fast BPE: processing token\n",
      " - Encoder: bpe to enc\n",
      " - Encoder: 1776 sentences in 0s\n",
      " - embedding: /tmp/tmp6s2mrot9/enc 1776 examples of dim 1024\n",
      " - creating FAISS index\n"
     ]
    }
   ],
   "source": [
    "data_en, index_en = lines_to_index(\n",
    "    \"en\", english_titles, \n",
    "    str(MODEL_PATH / \"bilstm.93langs.2018-12-26.pt\"), \n",
    "    str(MODEL_PATH / \"93langs.fcodes\"),\n",
    "    use_cpu=False\n",
    ")"
   ]
  },
  {
   "cell_type": "code",
   "execution_count": 11,
   "metadata": {},
   "outputs": [
    {
     "name": "stdout",
     "output_type": "stream",
     "text": [
      " - Tokenizer: source in language zh  \n",
      " - fast BPE: processing token\n",
      " - Encoder: bpe to enc\n",
      " - Encoder: 31 sentences in 0s\n",
      " - embedding: /tmp/tmps0e8jse5/enc 31 examples of dim 1024\n",
      " - creating FAISS index\n"
     ]
    }
   ],
   "source": [
    "data_zh, index_zh = lines_to_index(\n",
    "    \"zh\", chinese_titles, \n",
    "    str(MODEL_PATH / \"bilstm.93langs.2018-12-26.pt\"), \n",
    "    str(MODEL_PATH / \"93langs.fcodes\"),\n",
    "    use_cpu=False\n",
    ")"
   ]
  },
  {
   "cell_type": "markdown",
   "metadata": {},
   "source": [
    "## Evaluation"
   ]
  },
  {
   "cell_type": "code",
   "execution_count": 12,
   "metadata": {},
   "outputs": [],
   "source": [
    "# Top 3 predictions (Nearest 3 Neighbors)\n",
    "_, matched_indices = index_en.search(data_zh, 3)"
   ]
  },
  {
   "cell_type": "code",
   "execution_count": 13,
   "metadata": {
    "scrolled": false
   },
   "outputs": [
    {
     "name": "stdout",
     "output_type": "stream",
     "text": [
      "Chinese:    中国游客在澳大利亚：中产新富和文化鸿沟\n",
      "Correct:    In Tour of Australia, Chinese Admire Clean Air but Bemoan Lack of Hot Drinking Water\n",
      "Predict(1): Australia Cancels Residency for Wealthy Chinese Donor Linked to Communist Party\n",
      "Predict(2): Twitter Users in China Face Detention and Threats in New Beijing Crackdown\n",
      "Predict(3): Xi Jinping’s New Year Tour: Dumplings and Riot Gear\n",
      "\n",
      "--------------------\n",
      "Chinese:    孤立、隐形和麻木：是枝裕和电影中的日本阴暗面\n",
      "Correct:    ‘Shoplifters’ Director Pierces Japan’s Darker Side\n",
      "Predict(1): Showmanship, and Conflict, as Darts Goes From Smoky Pubs to TV Spectacle\n",
      "Predict(2): Dumplings, Figure Skating and Riot Gear: Xi Jinping’s New Year Tour\n",
      "Predict(3): The Saturday Profile: ‘Shoplifters’ Director Pierces Japan’s Darker Side\n",
      "\n",
      "--------------------\n",
      "Chinese:    谢天谢地，我们还有加拿大！\n",
      "Correct:    Thank God for Canada!\n",
      "Predict(1): Thank God for Canada!\n",
      "Predict(2): The Women in White: Praise From Trump, and Chants of ‘U.S.A.!’\n",
      "Predict(3): A Moral Leader ... and Boring? Canadians Respond\n",
      "\n",
      "--------------------\n",
      "Chinese:    与北京关系降温？新西兰担忧因华为禁令遭“报复”\n",
      "Correct:    New Zealand Fears Fraying Ties With China, Its Biggest Customer\n",
      "Predict(1): Mattis Accuses Beijing of ‘Intimidation and Coercion’ in South China Sea\n",
      "Predict(2): China’s Ambassador to Canada Blames ‘White Supremacy’ in Feud Over Arrests\n",
      "Predict(3): New Zealand Rebukes Google for Airing Name of Suspect in Backpacker’s Killing\n",
      "\n",
      "--------------------\n",
      "Chinese:    “学习强国”App：在线版习近平“红宝书”\n",
      "Correct:    Little Red App: Xi’s Thoughts Are (Surprise!) a Hit in China\n",
      "Predict(1): YouTube Bans Risky Prank Videos Amid Spate of ‘Bird Box’ Challenge Stunts\n",
      "Predict(2): On Politics: Virginia Governor’s Racist Yearbook Photo Revealed\n",
      "Predict(3): In a Stumble for Apple, a FaceTime Bug Lets iPhone Users Eavesdrop\n",
      "\n",
      "--------------------\n",
      "Chinese:    涉书商桂民海案，瑞典驻华大使被调查\n",
      "Correct:    Sweden Investigates Its Envoy to China After Report of Secret Talks to Free Publisher\n",
      "Predict(1): Pakistani Ex-Spy Chief Faces Inquiry Over Book With Indian Counterpart\n",
      "Predict(2): Ryan Adams Album Release Canceled Amid Report of F.B.I. Inquiry\n",
      "Predict(3): Vatican Envoy to France Under Investigation for Sexual Assault\n",
      "\n",
      "--------------------\n",
      "Chinese:    决定成功的“两种规则”\n",
      "Correct:    The Two Codes Your Kids Need to Know\n",
      "Predict(1): Sri Lanka Seeks Executioner With ‘Excellent Moral Character’\n",
      "Predict(2): A Tale of Two Trumps\n",
      "Predict(3): Wanted: The Oddest Lots\n",
      "\n",
      "--------------------\n",
      "Chinese:    文革专家马若德：照亮那个难以理解的时代\n",
      "Correct:    Roderick MacFarquhar, Eminent China Scholar, Dies at 88\n",
      "Predict(1): News Analysis: Democratic Unity Against Northam Shows Centrality of Race in Trump Era\n",
      "Predict(2): Instagram Update Brings Horizontal Scrolling to Horrified Users\n",
      "Predict(3): Vogue Fashion Director in Brazil Quits Over Photos That Evoke Slavery Era\n",
      "\n",
      "--------------------\n",
      "Chinese:    张艺谋文革题材新片退出柏林电影节\n",
      "Correct:    Film Set in China’s Cultural Revolution Is Pulled From Berlin Festival\n",
      "Predict(1): Film Set in China’s Cultural Revolution Is Pulled From Berlin Festival\n",
      "Predict(2): Army Issues New Reprimand to Leader of Green Beret Team Ambushed in Niger\n",
      "Predict(3): A Crackdown on Film Props Angers Hong Kong’s Cinephiles\n",
      "\n",
      "--------------------\n",
      "Chinese:    美国将禁止中国设备进入5G市场\n",
      "Correct:    Administration Readies Order to Keep China Out of Wireless Networks\n",
      "Predict(1): Key Senator Warns of Dangers of Chinese Investment in 5G Networks\n",
      "Predict(2): China Warns 2 American Warships in South China Sea\n",
      "Predict(3): US Stocks Surge on US-China Trade Deal Optimism\n",
      "\n",
      "--------------------\n",
      "Chinese:    热切与中国修好的捷克为何对华为“变脸”？\n",
      "Correct:    Huawei Was a Czech Favorite. Now? It’s a National Security Threat.\n",
      "Predict(1): What Are Britain’s ‘Golden Visas’ and Why Are They Being Suspended?\n",
      "Predict(2): Australia Cancels Residency for Wealthy Chinese Donor Linked to Communist Party\n",
      "Predict(3): What Is Hungary’s ‘Slave Law,’ and Why Has It Provoked Opposition?\n",
      "\n",
      "--------------------\n",
      "Chinese:    中美贸易谈判面临巨大障碍：北京能否履行承诺？\n",
      "Correct:    U.S.-China Trade Talks Face Big Obstacle: Ensuring That Promises Are Kept\n",
      "Predict(1): U.S.-China Trade Talks Face Big Obstacle: Ensuring That Promises Are Kept\n",
      "Predict(2): A Bargain Store Has Britons Asking: Can You Really Pop the Question With Plastic?\n",
      "Predict(3): California Today: California Today: Can Berkeley Boycott Amazon?\n",
      "\n",
      "--------------------\n",
      "Chinese:    报告指特朗普以错误方式反击中国\n",
      "Correct:    Trump Trying to Counter China in the ‘Wrong Way,’ Former Officials Say\n",
      "Predict(1): Trump Trying to Counter China in the ‘Wrong Way,’ Former Officials Say\n",
      "Predict(2): Ivanka Trump Wins China Trademarks, Then Her Father Vows to Save ZTE\n",
      "Predict(3): Justin Fairfax Puts Virginia Democrats in Bind on Impeachment\n",
      "\n",
      "--------------------\n",
      "Chinese:    《中国式家长》让你做一次“虎爸虎妈”\n",
      "Correct:    In China, This Video Game Lets You Be a Tiger Mom or a Driven Dad\n",
      "Predict(1): In China, This Video Game Lets You Be a Tiger Mom or a Driven Dad\n",
      "Predict(2): Albany’s ‘Wonder Twins’ Form a Power Duo, Challenging Cuomo’s Influence\n",
      "Predict(3): Dumplings, Figure Skating and Riot Gear: Xi Jinping’s New Year Tour\n",
      "\n",
      "--------------------\n",
      "Chinese:    婚外情、裸照和贝佐斯的战争\n",
      "Correct:    Daddy Warbucks Goes to War\n",
      "Predict(1): Books News: Dan Mallory, 2 Starkly Similar Novels and the Puzzle of Plagiarism\n",
      "Predict(2): Fiction: A Dark Fairy Tale of American Oddballs and Candlepin Bowling\n",
      "Predict(3): Clash of Giants: UnitedHealth Takes On Amazon, Berkshire Hathaway and JPMorgan Chase\n",
      "\n",
      "--------------------\n",
      "Chinese:    寻找艾衣提：抗议和诗歌的火种在维族音乐中燃烧\n",
      "Correct:    MUSIC; In a Far-Flung Corner of China, a Folk Star\n",
      "Predict(1): In China, Dolce & Gabbana Draws Fire and Accusations of Racism on Social Media\n",
      "Predict(2): Album Review: Ariana Grande Is Living a Public Life. The Real Reveals Are in Her Music.\n",
      "Predict(3): Ducking and Weaving: Corbyn’s Vanishing Act on Brexit\n",
      "\n",
      "--------------------\n",
      "Chinese:    美国不该对中国的互联网审查姑息讨好\n",
      "Correct:    China’s Online Censorship Stifles Trade, Too\n",
      "Predict(1): India Proposes Chinese-Style Internet Censorship\n",
      "Predict(2): Rights Groups Seek U.N. Inquiry Into China’s Mass Detention of Muslims\n",
      "Predict(3): US Stocks Surge on US-China Trade Deal Optimism\n",
      "\n",
      "--------------------\n",
      "Chinese:    小小的在华体验中心如何帮Facebook赚大钱？\n",
      "Correct:    How Facebook’s Tiny China Sales Floor Helps Generate Big Ad Money\n",
      "Predict(1): How Facebook’s Tiny China Sales Floor Helps Generate Big Ad Money\n",
      "Predict(2): Who Posted Viral Video of Covington Students and Protester? Congress Wants to Know\n",
      "Predict(3): Are ‘10-Year Challenge’ Photos a Boon to Facebook’s Facial Recognition Technology?\n",
      "\n",
      "--------------------\n",
      "Chinese:    《流浪地球》：中国电影业加入“太空竞赛”\n",
      "Correct:    China’s Film Industry Finally Joins the Space Race\n",
      "Predict(1): China’s Film Industry Finally Joins the Space Race\n",
      "Predict(2): Film Set in China’s Cultural Revolution Is Pulled From Berlin Festival\n",
      "Predict(3): Screenland: When Roger Stone Flashed Nixon’s ‘V-for-Victory’\n",
      "\n",
      "--------------------\n",
      "Chinese:    中国能将不毛之地变为世界经济的中心吗？\n",
      "Correct:    Can China Turn the Middle of Nowhere Into the Center of the World Economy?\n",
      "Predict(1): Can China Turn the Middle of Nowhere Into the Center of the World Economy?\n",
      "Predict(2): Chinese Consumers’ Confidence Sags, Casting a Pall Over the Global Economy\n",
      "Predict(3): Can Big Global Sports Come Around to Human Rights Advocacy?\n",
      "\n",
      "--------------------\n",
      "Chinese:    土耳其谴责中国，敦促关闭新疆拘禁营\n",
      "Correct:    Turkey Urges China to End Mass Detention of Muslims\n",
      "Predict(1): Turkey Urges China to End Mass Detention of Muslims\n",
      "Predict(2): Rights Groups Seek U.N. Inquiry Into China’s Mass Detention of Muslims\n",
      "Predict(3): After Snubbing Taiwan, Burkina Faso Establishes Diplomatic Ties With China\n",
      "\n",
      "--------------------\n",
      "Chinese:    华为在欧发起反击：要求捷克撤回安全威胁警告\n",
      "Correct:    Huawei Threatens Lawsuit Against Czech Republic After Security Warning\n",
      "Predict(1): Huawei Threatens Lawsuit Against Czech Republic After Security Warning\n",
      "Predict(2): Pelosi Urges Democrats to Back Border Security Deal as Republicans Fall in Line\n",
      "Predict(3): Virginia’s Lieutenant Governor Faces Impeachment Threat and Calls to Resign\n",
      "\n",
      "--------------------\n",
      "Chinese:    习近平春节视察：包饺子、话家常、测试防暴装备\n",
      "Correct:    Xi Jinping’s New Year Tour: Dumplings and Riot Gear\n",
      "Predict(1): Xi Jinping’s New Year Tour: Dumplings and Riot Gear\n",
      "Predict(2): Sackler Scion’s Email Reveals Push for High-Dose OxyContin, New Lawsuit Disclosures Claim\n",
      "Predict(3): Books News: Dan Mallory, 2 Starkly Similar Novels and the Puzzle of Plagiarism\n",
      "\n",
      "--------------------\n",
      "Chinese:    对抗中国是一场团体战（漫画）\n",
      "Correct:    Beating China Is a Team Sport\n",
      "Predict(1): Beating China Is a Team Sport\n",
      "Predict(2): MUSIC; In a Far-Flung Corner of China, a Folk Star\n",
      "Predict(3): Eight Killed in Knife Attack in China Amid Lunar New Year Celebrations\n",
      "\n",
      "--------------------\n",
      "Chinese:    劳工维权给习近平的“中国梦”蒙上阴影\n",
      "Correct:    Workers’ Activism Rises as China’s Economy Slows. Xi Aims to Rein Them In.\n",
      "Predict(1): Wall Street Slides on Renewed U.S.-China Trade Fears\n",
      "Predict(2): China’s Ambassador to Canada Blames ‘White Supremacy’ in Feud Over Arrests\n",
      "Predict(3): Explosions Shake Shopping District in Changchun, China\n",
      "\n",
      "--------------------\n",
      "Chinese:    在中美科技冷战的阴影下迎接猪年新年\n",
      "Correct:    The Week in Tech: Bracing for the Year of the Pig in China\n",
      "Predict(1): Crystal Meth Is North Korea’s Trendiest Lunar New Year’s Gift\n",
      "Predict(2): Bits: The Week in Tech: Hostages in the U.S.-China Tech Cold War\n",
      "Predict(3): The Week in Tech: Bracing for the Year of the Pig in China\n",
      "\n",
      "--------------------\n",
      "Chinese:    特朗普将与习近平会面，对达成贸易协议表示乐观\n",
      "Correct:    Trump Optimistic on Trade Deal With China, but May Keep Tariffs Anyway\n",
      "Predict(1): Trump Hails ‘Good Intent and Spirit’ of Trade Talks With China\n",
      "Predict(2): McConnell Says Trump Plans to Declare National Emergency to Build Border Wall\n",
      "Predict(3): Trump Optimistic on Trade Deal With China, but May Keep Tariffs Anyway\n",
      "\n",
      "--------------------\n",
      "Chinese:    赴美生子风潮有增无减，美国打击生育旅游\n",
      "Correct:    3 Arrested in Crackdown on Multimillion-Dollar ‘Birth Tourism’ Businesses\n",
      "Predict(1): U.S. Heightens Attacks on Taliban in Push Toward Peace in Afghanistan\n",
      "Predict(2): Wall Street Slides on Renewed U.S.-China Trade Fears\n",
      "Predict(3): American Student Fatally Stabbed in Netherlands Had Feared Roommate\n",
      "\n",
      "--------------------\n",
      "Chinese:    大豆政治背后，阿根廷如何向中国敞开怀抱\n",
      "Correct:    What Soybean Politics Tell Us About Argentina and China\n",
      "Predict(1): What Soybean Politics Tell Us About Argentina and China\n",
      "Predict(2): On Money: What Soybean Politics Tell Us About Argentina and China\n",
      "Predict(3): After Snubbing Taiwan, Burkina Faso Establishes Diplomatic Ties With China\n",
      "\n",
      "--------------------\n",
      "Chinese:    从疫苗丑闻看中共执政的合法性\n",
      "Correct:    If a Government Can’t Deliver Safe Vaccines for Children, Is It Fit to Rule?\n",
      "Predict(1): Slack Files for Public Offering, Joining Silicon Valley’s Stock Market Rush\n",
      "Predict(2): Big Thumbs-Up From Wall Street After Fed Signals Patience on Rates\n",
      "Predict(3): The Trump Administration Is Making a Mockery of the Supreme Court\n",
      "\n",
      "--------------------\n",
      "Chinese:    阿里巴巴营收增长放缓\n",
      "Correct:    Alibaba, an Icon of China’s Growth, Now Reflects Its Slowdown\n",
      "Predict(1): Alibaba, an Icon of China’s Growth, Now Reflects Its Slowdown\n",
      "Predict(2): Indonesia Clamps Down on Simmering Independence Effort in Papua\n",
      "Predict(3): Halliburton and Saudi Aramco Reach Deal to Increase Gas Output\n",
      "\n",
      "--------------------\n",
      "Top 1 Accuracy: 45.16%\n",
      "Top 3 Accuracy: 51.61%\n"
     ]
    }
   ],
   "source": [
    "top1_correct, top3_correct = 0, 0\n",
    "for i, ztitle in enumerate(chinese_titles):\n",
    "    print(\n",
    "        \"Chinese:    \", ztitle, \"\\n\",\n",
    "        \"Correct:    \", translated_titles[i], \"\\n\",\n",
    "        \"Predict(1): \", english_titles[matched_indices[i, 0]], \"\\n\",\n",
    "        \"Predict(2): \", english_titles[matched_indices[i, 1]], \"\\n\",\n",
    "        \"Predict(3): \", english_titles[matched_indices[i, 2]], \"\\n\",\n",
    "        sep=\"\"\n",
    "    )\n",
    "    if english_titles[matched_indices[i, 0]] == translated_titles[i]:\n",
    "        top1_correct += 1\n",
    "    if translated_titles[i] in (\n",
    "        english_titles[matched_indices[i, 0]],\n",
    "        english_titles[matched_indices[i, 1]],\n",
    "        english_titles[matched_indices[i, 2]]):\n",
    "        top3_correct += 1\n",
    "    print(\"-\" * 20)\n",
    "print(f\"Top 1 Accuracy: {top1_correct / len(chinese_titles) * 100:.2f}%\")\n",
    "print(f\"Top 3 Accuracy: {top3_correct / len(chinese_titles) * 100:.2f}%\")"
   ]
  },
  {
   "cell_type": "code",
   "execution_count": null,
   "metadata": {},
   "outputs": [],
   "source": []
  }
 ],
 "metadata": {
  "kernelspec": {
   "display_name": "Python 3",
   "language": "python",
   "name": "python3"
  },
  "language_info": {
   "codemirror_mode": {
    "name": "ipython",
    "version": 3
   },
   "file_extension": ".py",
   "mimetype": "text/x-python",
   "name": "python",
   "nbconvert_exporter": "python",
   "pygments_lexer": "ipython3",
   "version": "3.7.2"
  }
 },
 "nbformat": 4,
 "nbformat_minor": 2
}
